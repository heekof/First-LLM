{
 "cells": [
  {
   "cell_type": "markdown",
   "id": "9d932a02-1667-4fa9-a68a-08d6e4edf0e9",
   "metadata": {},
   "source": [
    "## Basic Pytorch"
   ]
  },
  {
   "cell_type": "code",
   "execution_count": 1,
   "id": "f40080d7-67b0-474c-91f6-722acaf1da05",
   "metadata": {},
   "outputs": [],
   "source": [
    "import torch"
   ]
  },
  {
   "cell_type": "code",
   "execution_count": 2,
   "id": "607faa7f-b83d-4cb4-a827-c2429409b90c",
   "metadata": {},
   "outputs": [],
   "source": [
    "data = [[1,2,3],[4,5,6]]"
   ]
  },
  {
   "cell_type": "code",
   "execution_count": 3,
   "id": "131d0fe4-79fd-409a-a7de-4fb91fe20b21",
   "metadata": {},
   "outputs": [
    {
     "data": {
      "text/plain": [
       "tensor([[1, 2, 3],\n",
       "        [4, 5, 6]])"
      ]
     },
     "execution_count": 3,
     "metadata": {},
     "output_type": "execute_result"
    }
   ],
   "source": [
    "x_data = torch.tensor(data)\n",
    "\n",
    "x_data"
   ]
  },
  {
   "cell_type": "code",
   "execution_count": 4,
   "id": "1dd73f2b-145a-430a-a972-b892271ab64a",
   "metadata": {},
   "outputs": [
    {
     "data": {
      "text/plain": [
       "tensor([[0.7314, 0.4835, 0.2963],\n",
       "        [0.2437, 0.6342, 0.0052]], dtype=torch.float64)"
      ]
     },
     "execution_count": 4,
     "metadata": {},
     "output_type": "execute_result"
    }
   ],
   "source": [
    "x_rand = torch.rand_like(x_data, dtype=float)\n",
    "x_rand"
   ]
  },
  {
   "cell_type": "code",
   "execution_count": 5,
   "id": "ee67823f-3c60-4226-9c9a-e87280701af8",
   "metadata": {},
   "outputs": [
    {
     "data": {
      "text/plain": [
       "tensor([[28],\n",
       "        [35]])"
      ]
     },
     "execution_count": 5,
     "metadata": {},
     "output_type": "execute_result"
    }
   ],
   "source": [
    "x1 = torch.tensor([[4],[5]]) # 2,1\n",
    "x2 = torch.tensor([[7]]) # 1,1\n",
    "torch.matmul(x1,x2) # 2,1"
   ]
  },
  {
   "cell_type": "code",
   "execution_count": 6,
   "id": "aa6a35bd-90ba-4c81-87b6-bb6ffad913b0",
   "metadata": {},
   "outputs": [
    {
     "data": {
      "text/plain": [
       "tensor([[28],\n",
       "        [35]])"
      ]
     },
     "execution_count": 6,
     "metadata": {},
     "output_type": "execute_result"
    }
   ],
   "source": [
    "x1 @ x2"
   ]
  },
  {
   "cell_type": "code",
   "execution_count": null,
   "id": "1a2df8a9-ab5a-42d3-9d0b-e0b224baa41a",
   "metadata": {},
   "outputs": [],
   "source": []
  },
  {
   "cell_type": "markdown",
   "id": "8732ae3b-6427-4ea6-b8cf-1bf4c3019305",
   "metadata": {},
   "source": [
    "## Simple ANN"
   ]
  },
  {
   "cell_type": "code",
   "execution_count": 7,
   "id": "00406245-5c45-4eae-9fe3-616a8ff8d06d",
   "metadata": {},
   "outputs": [],
   "source": [
    "import os\n",
    "from torch import nn\n",
    "from torch.utils.data import dataloader\n",
    "from torchvision import datasets, transforms"
   ]
  },
  {
   "cell_type": "code",
   "execution_count": 8,
   "id": "7d835e27-c9fe-4cd2-a007-01eda0d036da",
   "metadata": {},
   "outputs": [],
   "source": [
    "class SimpleANN(nn.Module):\n",
    "\n",
    "    def __init__(self):\n",
    "        super().__init__()\n",
    "        self.flatten = nn.Flatten()\n",
    "        self.linear_relu_stack = nn.Sequential(\n",
    "            nn.Linear(5, 512),  # Increased neurons\n",
    "            nn.ReLU(),\n",
    "            nn.Linear(512, 256),  # Added more layers\n",
    "            nn.ReLU(),\n",
    "            nn.Linear(256, 128),\n",
    "            nn.ReLU(),\n",
    "            nn.Linear(128, 64),\n",
    "            nn.ReLU(),\n",
    "            nn.Linear(64, 1),  # Assuming a single output for simplicity\n",
    "        )\n",
    "    def forward(self, x):\n",
    "        x = self.flatten(x)\n",
    "        logits = self.linear_relu_stack(x)\n",
    "        return logits\n",
    "\n",
    "\n",
    "model = SimpleANN()        \n"
   ]
  },
  {
   "cell_type": "code",
   "execution_count": 9,
   "id": "cd814ba9-fd80-4cf9-af0d-cadfb4aa879f",
   "metadata": {},
   "outputs": [],
   "source": [
    "model = SimpleANN()"
   ]
  },
  {
   "cell_type": "code",
   "execution_count": 163,
   "id": "6d27af44-03d6-4b4b-91ca-05b65a581f89",
   "metadata": {},
   "outputs": [],
   "source": [
    "# Example x_data with batch size N=3, and each sample having 5 features\n",
    "x_data = torch.randn(3, 5)  # Generates a tensor of shape [3, 5] with random values"
   ]
  },
  {
   "cell_type": "code",
   "execution_count": 10,
   "id": "a1b2c72f-27be-446d-99a4-150015d72c7f",
   "metadata": {},
   "outputs": [
    {
     "data": {
      "text/plain": [
       "tensor([[-0.5259, -2.6043, -0.6448],\n",
       "        [ 1.4356, -0.5796, -0.7254],\n",
       "        [ 1.6112, -0.0703,  0.4757],\n",
       "        [-0.3330, -0.0810, -1.2897],\n",
       "        [-1.1969,  0.6707, -1.2555]])"
      ]
     },
     "execution_count": 10,
     "metadata": {},
     "output_type": "execute_result"
    }
   ],
   "source": [
    "torch.manual_seed(69)\n",
    "tensor_rand = torch.randn(5,3)\n",
    "# torch.randn(rows, cols)\n",
    "\n",
    "\n",
    "torch.sum(tensor_rand, dim=1, keepdim = True) # sum on the row level, horizontally\n",
    "tensor_rand"
   ]
  },
  {
   "cell_type": "code",
   "execution_count": 15,
   "id": "63887a9e-6978-4b25-a40a-22c2da2ac84f",
   "metadata": {},
   "outputs": [
    {
     "data": {
      "text/plain": [
       "tensor([[-0.5259, -2.6043, -0.6448],\n",
       "        [   -inf, -0.5796, -0.7254],\n",
       "        [   -inf, -0.0703,    -inf],\n",
       "        [-0.3330, -0.0810, -1.2897],\n",
       "        [-1.1969,    -inf, -1.2555]])"
      ]
     },
     "execution_count": 15,
     "metadata": {},
     "output_type": "execute_result"
    }
   ],
   "source": [
    "masked_tensor = tensor_rand.masked_fill(tensor_rand>0,float(\"-inf\"))\n",
    "masked_tensor"
   ]
  },
  {
   "cell_type": "code",
   "execution_count": 16,
   "id": "563c8217-6d59-44a4-84f6-287f015a8daf",
   "metadata": {},
   "outputs": [
    {
     "data": {
      "text/plain": [
       "tensor([[0.4968, 0.0622, 0.4411],\n",
       "        [0.0000, 0.5364, 0.4636],\n",
       "        [0.0000, 1.0000, 0.0000],\n",
       "        [0.3744, 0.4817, 0.1438],\n",
       "        [0.5146, 0.0000, 0.4854]])"
      ]
     },
     "execution_count": 16,
     "metadata": {},
     "output_type": "execute_result"
    }
   ],
   "source": [
    "torch.softmax(masked_tensor, dim=-1)"
   ]
  },
  {
   "cell_type": "code",
   "execution_count": 164,
   "id": "4b6ffb4b-6c03-4640-af3f-940df4ca602b",
   "metadata": {},
   "outputs": [
    {
     "data": {
      "text/plain": [
       "tensor([[-0.0110,  0.7819, -1.1126,  0.5977, -0.5374],\n",
       "        [ 1.5686, -0.7675, -1.7572, -1.2564,  0.8655],\n",
       "        [-0.4227, -1.0381, -0.3254,  0.9988,  0.2015]])"
      ]
     },
     "execution_count": 164,
     "metadata": {},
     "output_type": "execute_result"
    }
   ],
   "source": [
    "x_data"
   ]
  },
  {
   "cell_type": "code",
   "execution_count": 165,
   "id": "57a5ca8f-9be9-4d74-94f5-c9d997e8e47e",
   "metadata": {},
   "outputs": [],
   "source": [
    "\"\"\"\n",
    "The term \"logits\" often refers to the raw, unnormalized scores that a model outputs before applying a softmax function \n",
    "in classification tasks.\n",
    "\"\"\"\n",
    "logits = model(x_data) "
   ]
  },
  {
   "cell_type": "code",
   "execution_count": 166,
   "id": "ff40612b-c816-4ce8-a18c-7baf7f399404",
   "metadata": {},
   "outputs": [],
   "source": [
    "pred_proba = nn.Softmax(dim=1)(logits)    "
   ]
  },
  {
   "cell_type": "code",
   "execution_count": 167,
   "id": "53c2b3d8-06d7-43f8-93e7-16574a044bc8",
   "metadata": {},
   "outputs": [
    {
     "data": {
      "text/plain": [
       "tensor([[1.],\n",
       "        [1.],\n",
       "        [1.]], grad_fn=<SoftmaxBackward0>)"
      ]
     },
     "execution_count": 167,
     "metadata": {},
     "output_type": "execute_result"
    }
   ],
   "source": [
    "pred_proba"
   ]
  },
  {
   "cell_type": "code",
   "execution_count": 168,
   "id": "b6104623-600d-4c9b-96a5-0b6a906bd3c1",
   "metadata": {},
   "outputs": [
    {
     "data": {
      "text/plain": [
       "tensor([0, 0, 0])"
      ]
     },
     "execution_count": 168,
     "metadata": {},
     "output_type": "execute_result"
    }
   ],
   "source": [
    "y_pred = pred_proba.argmax(1)\n",
    "y_pred"
   ]
  },
  {
   "cell_type": "markdown",
   "id": "9ba918c0-0ae6-4cc4-ae19-76568755963c",
   "metadata": {},
   "source": [
    "## Synthetic data"
   ]
  },
  {
   "cell_type": "code",
   "execution_count": 169,
   "id": "728007ea-56f9-4e75-9960-e9dda0471e8f",
   "metadata": {},
   "outputs": [],
   "source": [
    "# Synthetic dataset\n",
    "# Let's assume we have 100 samples\n",
    "torch.manual_seed(69)\n",
    "\n",
    "N, D_in = 100, 5\n",
    "X = torch.randn(N, D_in)\n",
    "y = torch.randn(N, 1)  # Synthetic labels for regression"
   ]
  },
  {
   "cell_type": "code",
   "execution_count": 170,
   "id": "57e68577-9d73-4efa-978f-d659159cc194",
   "metadata": {
    "scrolled": true
   },
   "outputs": [
    {
     "data": {
      "text/plain": [
       "tensor([[-5.3001e-01, -1.3035e+00,  4.4381e-01,  1.2221e+00,  1.0395e+00],\n",
       "        [ 9.6085e-01,  4.2135e-01,  7.4521e-01, -1.8389e+00, -1.2497e+00],\n",
       "        [-2.4846e-01,  1.4276e-01, -1.0509e+00,  3.5269e-01, -9.1552e-02],\n",
       "        [ 3.4143e-02, -8.9859e-01,  1.0216e-01, -6.6273e-01, -1.3499e-01],\n",
       "        [-3.9835e-01, -1.7892e+00,  1.2785e+00,  1.3351e+00, -3.0664e-01],\n",
       "        [ 1.0382e+00,  1.2762e+00,  4.1880e-02, -1.2794e+00, -1.8432e+00],\n",
       "        [ 8.6329e-01, -1.7786e+00, -8.0803e-01, -8.7350e-01,  9.3671e-01],\n",
       "        [-1.2319e+00,  1.5287e+00, -2.7586e-01, -8.6250e-01, -1.9147e-01],\n",
       "        [-4.8070e-01, -1.4154e+00,  9.3417e-02, -2.4200e-01, -1.0300e+00],\n",
       "        [-2.0342e-01, -6.8820e-01, -1.7792e-02,  1.1983e+00, -8.1802e-01],\n",
       "        [-7.2965e-01,  8.2558e-01,  8.7559e-01,  2.9595e-01,  6.3940e-01],\n",
       "        [ 1.2406e+00, -1.2100e+00, -9.4813e-01,  6.4439e-01,  2.1877e-01],\n",
       "        [-1.2224e+00, -9.3219e-01, -3.8316e-01,  1.4027e+00,  4.9127e-01],\n",
       "        [ 1.0152e+00, -1.8413e-02, -8.4866e-01,  1.8939e+00, -3.2514e-02],\n",
       "        [ 3.1909e-01, -5.6997e-01, -4.2918e-01, -1.0216e+00, -5.2850e-01],\n",
       "        [ 1.6272e+00, -2.4107e-01, -2.1021e+00, -1.7856e-02,  2.2406e-01],\n",
       "        [ 4.3894e-01,  1.6109e+00, -7.2840e-01, -1.6016e+00,  4.6602e-01],\n",
       "        [-1.9608e-01,  3.0626e-01, -1.8420e+00, -4.3958e-01,  1.3367e+00],\n",
       "        [ 3.6708e-01,  1.3794e+00,  1.1527e+00,  7.6198e-02,  5.5675e-02],\n",
       "        [-6.1626e-01, -1.2772e+00,  4.9048e-01, -4.0985e-01,  5.1698e-02],\n",
       "        [ 7.3290e-01, -7.4483e-01,  2.2900e+00,  1.2143e-01, -1.3227e+00],\n",
       "        [ 1.0725e+00, -1.6382e+00,  1.5207e+00,  5.9748e-01,  5.9677e-01],\n",
       "        [-5.1111e-01, -2.6170e-01, -4.8175e-01,  4.6919e-01,  4.9509e-01],\n",
       "        [-2.1402e-01, -1.0078e+00,  8.0511e-01,  7.8257e-01, -8.1447e-01],\n",
       "        [-1.7371e+00,  4.8308e-01,  4.6841e-01, -3.9332e-01,  2.7911e-01],\n",
       "        [ 8.2112e-01,  6.3276e-01,  8.0197e-01, -1.0774e+00, -1.1581e+00],\n",
       "        [ 6.1024e-01,  9.2072e-01, -2.2101e-01, -1.2322e+00,  1.3270e+00],\n",
       "        [-6.4499e-01,  6.5626e-01, -4.4434e-01,  2.7649e-02,  2.1283e+00],\n",
       "        [ 6.3242e-03,  5.0870e-01, -1.4697e+00,  6.5440e-01, -1.2719e-01],\n",
       "        [-1.0534e+00,  9.2787e-01, -1.0199e-01, -1.0190e+00,  1.2218e+00],\n",
       "        [-3.4015e-01, -3.9217e-01, -1.3434e+00, -8.0269e-02, -1.3560e+00],\n",
       "        [ 6.2433e-02, -3.7208e-01,  1.4222e+00, -2.0952e+00, -1.4304e+00],\n",
       "        [ 1.0489e+00,  7.0790e-01,  1.6686e+00,  5.7752e-01, -3.4623e-01],\n",
       "        [ 1.2238e+00, -2.9386e-02,  1.7231e+00,  1.3288e-01,  4.4472e-01],\n",
       "        [ 4.0520e-01,  3.7189e-01, -4.8841e-01,  5.2493e-01,  5.8179e-01],\n",
       "        [ 4.7382e-01,  2.3422e+00,  5.8452e-01,  4.5327e-01, -9.7151e-01],\n",
       "        [ 9.1189e-01, -1.1515e+00, -3.9014e-02,  5.6279e-01,  3.0764e-01],\n",
       "        [-4.5157e-01,  4.0744e-01,  2.4299e-01, -2.9740e-01,  1.0497e-01],\n",
       "        [-1.4721e+00, -9.0749e-01,  6.9332e-01, -1.0619e+00, -4.9514e-01],\n",
       "        [-1.3531e+00, -3.4692e-01, -8.2007e-01, -2.0557e-01, -7.5337e-01],\n",
       "        [-8.3596e-01,  1.6157e-01,  9.0113e-01,  4.0378e-04, -2.0070e-01],\n",
       "        [ 3.5871e-04, -3.5481e-01,  8.4781e-02,  6.7646e-01,  9.4054e-01],\n",
       "        [-2.3685e-01,  6.6969e-01,  6.3868e-01, -1.8671e-01,  8.7869e-01],\n",
       "        [ 1.1168e+00, -1.0552e+00,  3.1046e-01,  1.2669e-01, -4.9029e-01],\n",
       "        [-1.0849e-01,  1.5407e+00,  7.6660e-01,  7.3830e-01, -4.7304e-01],\n",
       "        [ 3.8990e-01,  2.0513e+00,  7.4940e-01,  1.2193e+00, -1.6536e+00],\n",
       "        [-1.0109e+00, -8.3177e-01,  8.0288e-01, -3.5990e-01,  1.0008e+00],\n",
       "        [ 1.5579e-03, -8.0353e-01, -6.0771e-01,  7.9591e-01, -1.1940e+00],\n",
       "        [ 4.9793e-01,  2.3756e-01, -1.1089e+00, -4.3322e-01,  8.9922e-01],\n",
       "        [ 6.3328e-03,  2.1820e-01, -3.7427e-01,  8.7552e-01, -5.2439e-01],\n",
       "        [-5.0174e-02,  9.3657e-02, -1.3555e+00,  5.6251e-01, -3.4845e-01],\n",
       "        [-8.0959e-01, -1.3487e-01,  9.9180e-01,  4.6154e-01,  1.1092e+00],\n",
       "        [ 6.1624e-01,  4.7165e-01, -1.2807e-01,  6.7613e-01,  7.3119e-01],\n",
       "        [ 1.9553e+00,  1.0936e+00,  8.9314e-01,  5.3071e-01,  4.7901e-01],\n",
       "        [-1.0159e+00,  1.3462e+00, -1.6898e+00, -9.1056e-01, -1.3677e+00],\n",
       "        [ 6.7915e-01, -5.6605e-01,  7.4233e-01, -1.2858e+00,  1.2506e+00],\n",
       "        [-1.0953e+00,  2.1752e-01, -6.9099e-01,  1.5249e+00, -1.3912e-02],\n",
       "        [-9.1655e-01, -8.0110e-01,  1.0421e-03, -1.3137e+00, -7.1562e-01],\n",
       "        [ 7.3541e-01,  1.3567e-01, -9.6737e-02,  4.7208e-01, -8.8246e-01],\n",
       "        [-5.1323e-01,  1.4020e+00, -1.2354e+00, -1.5768e-01, -9.3025e-01],\n",
       "        [ 1.7779e-01, -4.9875e-01, -3.1132e-01, -3.9977e-01,  7.0043e-01],\n",
       "        [-2.6710e-01,  8.6306e-01, -1.9740e+00, -1.4414e-01, -1.8779e+00],\n",
       "        [-6.8022e-01, -1.3814e+00, -1.4138e-01,  3.9129e-01, -1.7999e-01],\n",
       "        [ 1.9521e+00,  3.1924e-01,  6.0029e-01,  3.4923e-01, -1.9922e+00],\n",
       "        [ 9.3373e-01, -1.2466e-01,  5.3977e-02,  7.6050e-01,  2.1579e-01],\n",
       "        [ 5.3873e-01,  5.1148e-01, -2.0028e-01, -1.5145e+00,  3.1535e-01],\n",
       "        [ 4.6507e-02,  1.3449e+00, -5.6008e-01,  1.3202e+00,  1.6970e+00],\n",
       "        [ 1.8642e-01,  4.2272e-01, -3.4942e-01,  1.3044e+00,  3.8225e-01],\n",
       "        [ 2.8145e+00,  7.4157e-03,  8.3808e-01, -4.5004e-01, -2.1966e-01],\n",
       "        [ 6.0902e-02, -1.9680e+00,  7.5660e-01,  3.7265e-01,  9.9577e-01],\n",
       "        [ 4.6543e-01,  2.1460e+00,  3.9412e-01,  9.1300e-02,  1.4000e+00],\n",
       "        [ 1.4402e+00,  7.3420e-01,  6.4943e-01,  4.7203e-01, -6.4417e-01],\n",
       "        [ 1.5956e+00, -1.3652e+00,  1.5010e+00, -5.9209e-01, -2.8906e-01],\n",
       "        [ 1.7519e+00,  1.3030e+00,  8.3018e-01, -1.6471e+00, -9.4278e-01],\n",
       "        [-7.4516e-02, -5.1863e-01,  9.1760e-01, -1.0713e+00, -3.0194e-01],\n",
       "        [ 3.8836e-01, -5.6664e-01,  8.0547e-01,  1.6336e+00, -7.2897e-02],\n",
       "        [-1.8585e+00,  8.1894e-01,  1.2926e+00, -1.8463e-01,  7.2880e-01],\n",
       "        [-1.0700e+00,  9.5370e-02, -3.1199e-01,  5.7116e-01,  2.8865e-02],\n",
       "        [ 8.4504e-01, -5.9487e-01, -5.6884e-01,  7.6285e-01,  2.5078e+00],\n",
       "        [-1.7871e-01,  3.1815e-01, -2.6407e-01, -1.9740e-01,  8.9682e-01],\n",
       "        [ 3.6763e-01, -4.5358e-01, -5.0944e-01, -4.6959e-01, -1.6534e-01],\n",
       "        [-1.4160e-01, -7.3537e-01, -5.5081e-03, -4.2739e-01, -1.5819e-01],\n",
       "        [ 5.0324e-01,  3.5852e-01,  7.8723e-01, -5.9363e-01, -4.8881e-01],\n",
       "        [ 1.2069e+00,  8.8887e-01, -5.4797e-01, -7.0792e-01, -1.5991e+00],\n",
       "        [ 1.6717e-01,  1.0116e-01, -2.9209e-01,  2.3267e-01, -7.1134e-02],\n",
       "        [-5.3503e-01, -6.4214e-01,  2.2622e-01,  1.7940e+00, -4.1507e-03],\n",
       "        [-1.0494e+00, -8.0594e-01, -1.4992e+00,  2.1494e-01, -2.2930e+00],\n",
       "        [ 1.1424e+00,  1.0057e+00,  2.8538e-01,  1.1208e+00,  9.1797e-01],\n",
       "        [ 2.0497e+00, -1.1024e-01,  2.8355e-01,  2.4870e-01,  1.5537e+00],\n",
       "        [-1.0601e+00,  9.6924e-01, -1.7794e+00, -1.1826e+00,  6.4516e-01],\n",
       "        [-1.2194e-01, -1.0260e+00,  1.8620e+00, -2.9495e-01, -8.0961e-01],\n",
       "        [-1.4203e+00, -7.3421e-01,  1.5651e+00,  8.5059e-01, -1.8654e-01],\n",
       "        [-3.6373e-01,  1.0936e+00, -1.8839e-01, -5.3987e-01, -8.2445e-01],\n",
       "        [ 4.2919e-01, -1.7240e+00,  6.9559e-01, -4.0777e-01,  4.9077e-01],\n",
       "        [ 1.1385e+00,  8.2759e-01, -1.0317e+00, -1.6073e+00, -5.3264e-01],\n",
       "        [ 5.7762e-01,  1.7831e+00,  1.1885e+00,  1.6905e+00,  7.7123e-01],\n",
       "        [-1.4585e-01, -7.5611e-01, -5.9686e-01,  1.4035e+00,  1.5176e+00],\n",
       "        [ 1.0716e+00, -2.5453e-01,  4.7850e-01, -4.3422e-01,  6.0194e-02],\n",
       "        [ 1.5332e-01,  7.6872e-01, -5.7763e-02,  7.7144e-01,  5.5970e-01],\n",
       "        [-6.7862e-01, -9.1048e-01, -5.8473e-02, -3.3505e-01,  8.3756e-01]])"
      ]
     },
     "execution_count": 170,
     "metadata": {},
     "output_type": "execute_result"
    }
   ],
   "source": [
    "X"
   ]
  },
  {
   "cell_type": "code",
   "execution_count": 171,
   "id": "2c8e0760-abbb-43fa-8813-1db6fdda92c5",
   "metadata": {
    "scrolled": true
   },
   "outputs": [
    {
     "data": {
      "text/plain": [
       "tensor([[-2.5685e-01],\n",
       "        [-4.0391e-01],\n",
       "        [ 1.2753e+00],\n",
       "        [-7.8397e-01],\n",
       "        [ 3.7862e-01],\n",
       "        [-1.1871e+00],\n",
       "        [-1.4026e+00],\n",
       "        [ 6.0435e-01],\n",
       "        [ 1.4240e+00],\n",
       "        [-1.5331e+00],\n",
       "        [-1.2456e-01],\n",
       "        [-4.7141e-01],\n",
       "        [-5.3089e-01],\n",
       "        [-1.0803e+00],\n",
       "        [ 8.6601e-01],\n",
       "        [-3.2139e-02],\n",
       "        [-2.1301e-01],\n",
       "        [ 8.6874e-01],\n",
       "        [ 8.3369e-01],\n",
       "        [ 3.0158e-01],\n",
       "        [-5.2113e-01],\n",
       "        [ 2.3907e-01],\n",
       "        [ 1.4064e+00],\n",
       "        [ 3.8439e-01],\n",
       "        [ 2.1853e+00],\n",
       "        [-7.6976e-01],\n",
       "        [-4.6498e-01],\n",
       "        [ 1.3144e+00],\n",
       "        [ 1.1666e+00],\n",
       "        [ 1.0438e+00],\n",
       "        [-1.1643e+00],\n",
       "        [-9.9283e-01],\n",
       "        [ 8.7023e-03],\n",
       "        [ 1.9184e+00],\n",
       "        [ 5.1825e-02],\n",
       "        [-6.6160e-01],\n",
       "        [ 2.2018e+00],\n",
       "        [-1.2140e+00],\n",
       "        [ 3.6127e-01],\n",
       "        [ 1.7435e-01],\n",
       "        [-4.3098e-01],\n",
       "        [ 3.8850e-01],\n",
       "        [ 4.8197e-01],\n",
       "        [ 8.0930e-01],\n",
       "        [ 1.3632e+00],\n",
       "        [ 1.9123e-02],\n",
       "        [-6.6143e-01],\n",
       "        [ 1.9127e+00],\n",
       "        [ 8.3907e-01],\n",
       "        [-1.5711e-01],\n",
       "        [-1.5166e-01],\n",
       "        [ 8.6718e-01],\n",
       "        [ 1.4306e+00],\n",
       "        [ 9.4708e-01],\n",
       "        [-4.3546e-01],\n",
       "        [-2.1328e-01],\n",
       "        [-6.4130e-01],\n",
       "        [ 2.2511e-01],\n",
       "        [ 4.8098e-02],\n",
       "        [-1.4688e+00],\n",
       "        [-4.8964e-01],\n",
       "        [ 1.5946e-01],\n",
       "        [-2.2914e-01],\n",
       "        [ 1.5757e-03],\n",
       "        [ 2.2492e+00],\n",
       "        [ 8.6669e-02],\n",
       "        [ 3.6749e-01],\n",
       "        [-7.0586e-01],\n",
       "        [ 2.2394e-01],\n",
       "        [ 4.0490e-01],\n",
       "        [ 1.0843e+00],\n",
       "        [ 1.5693e+00],\n",
       "        [-4.6655e-01],\n",
       "        [ 4.1653e-01],\n",
       "        [ 1.1770e+00],\n",
       "        [-1.3607e+00],\n",
       "        [ 5.3385e-01],\n",
       "        [-1.6440e+00],\n",
       "        [-1.7615e+00],\n",
       "        [-1.9696e+00],\n",
       "        [ 1.4530e+00],\n",
       "        [ 1.5483e-01],\n",
       "        [ 1.0702e+00],\n",
       "        [ 5.1241e-01],\n",
       "        [ 8.0229e-01],\n",
       "        [ 2.2747e-01],\n",
       "        [-1.6477e+00],\n",
       "        [-1.3751e+00],\n",
       "        [-6.2769e-01],\n",
       "        [-1.0305e+00],\n",
       "        [-1.2241e+00],\n",
       "        [ 2.2568e-01],\n",
       "        [ 2.4359e-02],\n",
       "        [ 3.0430e-01],\n",
       "        [ 5.9993e-01],\n",
       "        [ 3.9191e-01],\n",
       "        [-5.3146e-01],\n",
       "        [-1.2284e-01],\n",
       "        [ 8.4984e-01],\n",
       "        [-5.1942e-01]])"
      ]
     },
     "execution_count": 171,
     "metadata": {},
     "output_type": "execute_result"
    }
   ],
   "source": [
    "y"
   ]
  },
  {
   "cell_type": "markdown",
   "id": "4fdaa8dd-d5b7-4b58-836b-0a8402dcb9b9",
   "metadata": {},
   "source": [
    "## training ..."
   ]
  },
  {
   "cell_type": "code",
   "execution_count": 172,
   "id": "89c668bd-668b-45df-81bc-b3247d9e107b",
   "metadata": {},
   "outputs": [],
   "source": [
    "import torch.optim as optim\n"
   ]
  },
  {
   "cell_type": "code",
   "execution_count": 173,
   "id": "7587224f-a35a-472d-9f4b-7823095999ae",
   "metadata": {},
   "outputs": [
    {
     "name": "stdout",
     "output_type": "stream",
     "text": [
      "Epoch 0, Loss: 0.9312273263931274\n",
      "Epoch 10, Loss: 0.9019464254379272\n",
      "Epoch 20, Loss: 0.8760800361633301\n",
      "Epoch 30, Loss: 0.8455387949943542\n",
      "Epoch 40, Loss: 0.8087499737739563\n",
      "Epoch 50, Loss: 0.7618715167045593\n",
      "Epoch 60, Loss: 0.7072193026542664\n",
      "Epoch 70, Loss: 0.6447380185127258\n",
      "Epoch 80, Loss: 0.5772531032562256\n",
      "Epoch 90, Loss: 0.5090678930282593\n",
      "Epoch 100, Loss: 0.44148585200309753\n",
      "Epoch 110, Loss: 0.37724047899246216\n",
      "Epoch 120, Loss: 0.3176722228527069\n",
      "Epoch 130, Loss: 0.2637220323085785\n",
      "Epoch 140, Loss: 0.21478696167469025\n",
      "Epoch 150, Loss: 0.17049430310726166\n",
      "Epoch 160, Loss: 0.13079456984996796\n",
      "Epoch 170, Loss: 0.0952078253030777\n",
      "Epoch 180, Loss: 0.06583807617425919\n",
      "Epoch 190, Loss: 0.04339105635881424\n",
      "Epoch 200, Loss: 0.027821941301226616\n",
      "Epoch 210, Loss: 0.01779797673225403\n",
      "Epoch 220, Loss: 0.01168495137244463\n",
      "Epoch 230, Loss: 0.00787707231938839\n",
      "Epoch 240, Loss: 0.0056463866494596004\n",
      "Epoch 250, Loss: 0.004114047158509493\n",
      "Epoch 260, Loss: 0.0030812458135187626\n",
      "Epoch 270, Loss: 0.002308144699782133\n",
      "Epoch 280, Loss: 0.0017934424104169011\n",
      "Epoch 290, Loss: 0.0016685542650520802\n"
     ]
    }
   ],
   "source": [
    "# Loss function\n",
    "loss_fn = nn.MSELoss()\n",
    "\n",
    "# Optimizer\n",
    "optimizer = optim.Adam(model.parameters(), lr=1e-4)\n",
    "\n",
    "# Training loop\n",
    "epochs = 300\n",
    "for epoch in range(epochs):\n",
    "    # Forward pass: compute predicted y\n",
    "    y_pred = model(X)\n",
    "\n",
    "    # Compute and print loss\n",
    "    loss = loss_fn(y_pred, y)\n",
    "    if epoch % 10 == 0:\n",
    "        print(f\"Epoch {epoch}, Loss: {loss.item()}\")\n",
    "\n",
    "    # Zero gradients, perform a backward pass, and update the weights.\n",
    "    optimizer.zero_grad()\n",
    "    loss.backward()\n",
    "    optimizer.step()"
   ]
  },
  {
   "cell_type": "code",
   "execution_count": 174,
   "id": "d6fde9e8-0a61-4d29-aaaf-5e64a86df511",
   "metadata": {},
   "outputs": [
    {
     "data": {
      "text/plain": [
       "tensor([-0.2569])"
      ]
     },
     "execution_count": 174,
     "metadata": {},
     "output_type": "execute_result"
    }
   ],
   "source": [
    "y[0]"
   ]
  },
  {
   "cell_type": "code",
   "execution_count": 175,
   "id": "abd5742b-ba0f-4923-b1e7-67fcfe9f5bfa",
   "metadata": {},
   "outputs": [
    {
     "data": {
      "text/plain": [
       "torch.Size([100, 5])"
      ]
     },
     "execution_count": 175,
     "metadata": {},
     "output_type": "execute_result"
    }
   ],
   "source": [
    "X.shape"
   ]
  },
  {
   "cell_type": "code",
   "execution_count": 176,
   "id": "a34be0c3-92e3-4b0d-90ed-70f844597803",
   "metadata": {},
   "outputs": [
    {
     "data": {
      "text/plain": [
       "tensor([-0.5300, -1.3035,  0.4438,  1.2221,  1.0395])"
      ]
     },
     "execution_count": 176,
     "metadata": {},
     "output_type": "execute_result"
    }
   ],
   "source": [
    "X[0,]"
   ]
  },
  {
   "cell_type": "code",
   "execution_count": 177,
   "id": "9a7a5b80-0b48-4a7a-ae19-aea3368de49f",
   "metadata": {},
   "outputs": [
    {
     "data": {
      "text/plain": [
       "tensor([[-0.5300, -1.3035,  0.4438,  1.2221,  1.0395]])"
      ]
     },
     "execution_count": 177,
     "metadata": {},
     "output_type": "execute_result"
    }
   ],
   "source": [
    "X[0,].unsqueeze(0)"
   ]
  },
  {
   "cell_type": "code",
   "execution_count": 178,
   "id": "dbda36cb-478c-4b1e-8a3e-afaeadcf87dc",
   "metadata": {},
   "outputs": [
    {
     "data": {
      "text/plain": [
       "tensor([[-0.2616]], grad_fn=<AddmmBackward0>)"
      ]
     },
     "execution_count": 178,
     "metadata": {},
     "output_type": "execute_result"
    }
   ],
   "source": [
    "model.forward(X[0,].unsqueeze(0))"
   ]
  },
  {
   "cell_type": "code",
   "execution_count": 179,
   "id": "a3baa75f-b383-40ea-b0c5-8265344beb54",
   "metadata": {},
   "outputs": [
    {
     "data": {
      "text/plain": [
       "tensor([-0.2569])"
      ]
     },
     "execution_count": 179,
     "metadata": {},
     "output_type": "execute_result"
    }
   ],
   "source": [
    "y[0,]"
   ]
  },
  {
   "cell_type": "code",
   "execution_count": 180,
   "id": "b1a9cdcc-b567-43ad-9281-b919d1d67449",
   "metadata": {
    "scrolled": true
   },
   "outputs": [
    {
     "data": {
      "text/plain": [
       "tensor([[-2.6162e-01],\n",
       "        [-4.1508e-01],\n",
       "        [ 1.2143e+00],\n",
       "        [-7.3719e-01],\n",
       "        [ 3.7145e-01],\n",
       "        [-1.1941e+00],\n",
       "        [-1.4128e+00],\n",
       "        [ 6.0011e-01],\n",
       "        [ 1.4224e+00],\n",
       "        [-1.5311e+00],\n",
       "        [-1.2670e-01],\n",
       "        [-4.8135e-01],\n",
       "        [-5.3861e-01],\n",
       "        [-1.0995e+00],\n",
       "        [ 8.5911e-01],\n",
       "        [-4.5739e-02],\n",
       "        [-2.2134e-01],\n",
       "        [ 8.6960e-01],\n",
       "        [ 8.2928e-01],\n",
       "        [ 2.9854e-01],\n",
       "        [-5.3009e-01],\n",
       "        [ 2.3297e-01],\n",
       "        [ 1.3944e+00],\n",
       "        [ 3.7840e-01],\n",
       "        [ 2.1830e+00],\n",
       "        [-7.7408e-01],\n",
       "        [-4.7222e-01],\n",
       "        [ 1.3063e+00],\n",
       "        [ 1.1103e+00],\n",
       "        [ 1.0372e+00],\n",
       "        [-1.1776e+00],\n",
       "        [-1.0020e+00],\n",
       "        [ 1.1991e-03],\n",
       "        [ 1.9126e+00],\n",
       "        [ 2.4123e-01],\n",
       "        [-6.7205e-01],\n",
       "        [ 2.1994e+00],\n",
       "        [-1.2297e+00],\n",
       "        [ 3.5355e-01],\n",
       "        [ 1.6887e-01],\n",
       "        [-4.3367e-01],\n",
       "        [ 3.9361e-01],\n",
       "        [ 4.8550e-01],\n",
       "        [ 8.0366e-01],\n",
       "        [ 1.3588e+00],\n",
       "        [ 1.0014e-02],\n",
       "        [-6.6728e-01],\n",
       "        [ 1.9033e+00],\n",
       "        [ 8.1560e-01],\n",
       "        [-1.7106e-01],\n",
       "        [-6.7602e-02],\n",
       "        [ 8.6309e-01],\n",
       "        [ 1.1989e+00],\n",
       "        [ 9.3123e-01],\n",
       "        [-4.4126e-01],\n",
       "        [-2.1868e-01],\n",
       "        [-6.5007e-01],\n",
       "        [ 2.1917e-01],\n",
       "        [ 4.0509e-02],\n",
       "        [-1.4742e+00],\n",
       "        [-4.9700e-01],\n",
       "        [ 1.5018e-01],\n",
       "        [-2.3715e-01],\n",
       "        [-6.7518e-03],\n",
       "        [ 2.2635e+00],\n",
       "        [ 8.0648e-02],\n",
       "        [ 3.5888e-01],\n",
       "        [-7.0412e-01],\n",
       "        [ 2.1382e-01],\n",
       "        [ 3.9908e-01],\n",
       "        [ 1.0777e+00],\n",
       "        [ 1.5662e+00],\n",
       "        [-4.7587e-01],\n",
       "        [ 4.0591e-01],\n",
       "        [ 1.1717e+00],\n",
       "        [-1.3678e+00],\n",
       "        [ 5.2594e-01],\n",
       "        [-1.6456e+00],\n",
       "        [-1.7687e+00],\n",
       "        [-1.9656e+00],\n",
       "        [ 1.4544e+00],\n",
       "        [ 9.8004e-02],\n",
       "        [ 1.0719e+00],\n",
       "        [ 5.0405e-01],\n",
       "        [ 7.9856e-01],\n",
       "        [ 2.1968e-01],\n",
       "        [-1.6582e+00],\n",
       "        [-1.3284e+00],\n",
       "        [-6.2959e-01],\n",
       "        [-1.0391e+00],\n",
       "        [-1.2299e+00],\n",
       "        [ 2.1993e-01],\n",
       "        [ 1.8441e-02],\n",
       "        [ 2.9621e-01],\n",
       "        [ 5.9609e-01],\n",
       "        [ 3.8097e-01],\n",
       "        [-5.4051e-01],\n",
       "        [-1.2398e-01],\n",
       "        [ 8.5144e-01],\n",
       "        [-5.2235e-01]], grad_fn=<AddmmBackward0>)"
      ]
     },
     "execution_count": 180,
     "metadata": {},
     "output_type": "execute_result"
    }
   ],
   "source": [
    "model.forward(X)"
   ]
  },
  {
   "cell_type": "code",
   "execution_count": null,
   "id": "0f1b29fe-5016-4325-8801-dcddf9c34c89",
   "metadata": {},
   "outputs": [],
   "source": []
  },
  {
   "cell_type": "code",
   "execution_count": null,
   "id": "e5151acf-080e-4c96-b4ee-0d011e4f2d07",
   "metadata": {},
   "outputs": [],
   "source": []
  },
  {
   "cell_type": "code",
   "execution_count": null,
   "id": "6d23aab9-e30a-41c6-928f-d8fef397ee97",
   "metadata": {},
   "outputs": [],
   "source": []
  }
 ],
 "metadata": {
  "kernelspec": {
   "display_name": "Python 3 (ipykernel)",
   "language": "python",
   "name": "python3"
  },
  "language_info": {
   "codemirror_mode": {
    "name": "ipython",
    "version": 3
   },
   "file_extension": ".py",
   "mimetype": "text/x-python",
   "name": "python",
   "nbconvert_exporter": "python",
   "pygments_lexer": "ipython3",
   "version": "3.11.7"
  }
 },
 "nbformat": 4,
 "nbformat_minor": 5
}
