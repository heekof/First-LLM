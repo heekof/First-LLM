{
 "cells": [
  {
   "cell_type": "code",
   "execution_count": 1,
   "id": "0b8abe87-22f1-4972-a9a5-e8536275891a",
   "metadata": {},
   "outputs": [],
   "source": [
    "import torch"
   ]
  },
  {
   "cell_type": "code",
   "execution_count": 16,
   "id": "63ce52b1-e1a1-4f6e-871f-6d59fa4f26fb",
   "metadata": {},
   "outputs": [
    {
     "name": "stdout",
     "output_type": "stream",
     "text": [
      "['start-of-sentence', 'object', 'that', 'has', 'a', 'no-return', 'boundary', 'for', 'other', 'uses', 'see', 'black', 'hole', '(disambiguation)', 'end-of-sentence', 'start-of-sentence', 'direct', 'radio', 'image', 'of', 'a', 'supermassive', 'black', 'hole', 'at', 'the', 'core', 'of', 'messier', '87', 'animated', 'simulation', 'of', 'a', 'schwarzschild', 'black', 'hole', 'with', 'a', 'galaxy', 'passing', 'behind', 'end-of-sentence', 'start-of-sentence', 'around', 'the', 'time', 'of', 'alignment', 'extreme', 'gravitational', 'lensing', 'of', 'the', 'galaxy', 'is', 'observed', 'end-of-sentence', 'start-of-sentence', 'a', 'black', 'hole', 'is', 'a', 'region', 'of', 'spacetime', 'where', 'gravity', 'is', 'so', 'strong', 'that', 'nothing', 'including', 'light', 'and', 'other', 'electromagnetic', 'waves', 'has', 'enough', 'energy', 'to', 'escape', 'it', 'end-of-sentence', 'start-of-sentence', 'einstein', 's', 'theory', 'of', 'general', 'relativity', 'predicts', 'that', 'a', 'sufficiently', 'compact', 'mass']\n"
     ]
    }
   ],
   "source": [
    "import torch\n",
    "from collections import Counter\n",
    "import random\n",
    "import re\n",
    "\n",
    "file_path = '/Users/jaafarbendriss/First-LLM/dataset/black_hole_wiki.txt'\n",
    "\n",
    "# Open the file and read its content\n",
    "with open(file_path, 'r') as file:\n",
    "    file_content = file.read()\n",
    "\n",
    "raw_text = file_content\n",
    "\n",
    "def add_start_end_sentence(text):\n",
    "    return \"start-of-sentence \" + text.replace(\".\",\" end-of-sentence start-of-sentence\")\n",
    "\n",
    "\n",
    "def remove_citations(text):\n",
    "    pattern = r\"\\[\\d+\\]\"\n",
    "    cleaned_text = re.sub(pattern, \"\", text)    \n",
    "    return cleaned_text\n",
    "\n",
    "def remove_spaces(text):\n",
    "    pattern = r\"\\s+\"\n",
    "    cleaned_text = re.sub(pattern, \" \", text)    \n",
    "    return cleaned_text\n",
    "\n",
    "def preprocess(text: str):\n",
    "    return remove_spaces(remove_citations(add_start_end_sentence(text).lower().replace(\" s \",\"\").replace(\"\\\\\",\"\").replace(\"'\",\" \").replace('\"',' ').replace(\",\",\" \").replace(\"\\ s\",\" \").replace(\"\\n\",\" \")))\n",
    "\n",
    "preprocessed_text = preprocess(raw_text)\n",
    "\n",
    "Counter(preprocessed_text.split(\" \")).most_common(20)\n",
    "\n",
    "preprocessed_text_array = preprocessed_text.split(\" \")\n",
    "\n",
    "\n",
    "print(preprocessed_text_array[0:100])\n",
    "\n",
    "from torchtext.data.utils import get_tokenizer\n",
    "from torchtext.vocab import build_vocab_from_iterator\n",
    "\n",
    "tokenizer = get_tokenizer(\"basic_english\")\n",
    "\n",
    "tokens = tokenizer(preprocessed_text)\n",
    "\n",
    "preprocessed_text = preprocessed_text.replace(\"end-of-sentence start-of-sentence\", \"end-of-sentence69696969start-of-sentence\")\n",
    "splited_data = preprocessed_text.split(\"69696969\")\n",
    "\n",
    "train_data =  [(i,sentence) for i, sentence in zip( range(0,len(splited_data)), splited_data  )]\n",
    "train_iter = iter(train_data)\n"
   ]
  },
  {
   "cell_type": "code",
   "execution_count": 17,
   "id": "3b653746-6214-4009-9a0d-bad541481b1e",
   "metadata": {},
   "outputs": [
    {
     "data": {
      "text/plain": [
       "(0,\n",
       " 'start-of-sentence object that has a no-return boundary for other uses see black hole (disambiguation) end-of-sentence')"
      ]
     },
     "execution_count": 17,
     "metadata": {},
     "output_type": "execute_result"
    }
   ],
   "source": [
    "next(train_iter)"
   ]
  },
  {
   "cell_type": "markdown",
   "id": "df63202c-3e25-4118-969e-4b545e05d36e",
   "metadata": {},
   "source": [
    "## Preparing training dataset using sliding window"
   ]
  },
  {
   "cell_type": "code",
   "execution_count": 18,
   "id": "dd4dbc77-59e6-4d36-9a57-c51b447a2372",
   "metadata": {},
   "outputs": [],
   "source": [
    "sentence =  'start-of-sentence object that has a no-return boundary for other uses see black hole (disambiguation) end-of-sentence'"
   ]
  },
  {
   "cell_type": "code",
   "execution_count": 19,
   "id": "1f19f6c0-a825-406c-b329-985f57e60d02",
   "metadata": {},
   "outputs": [],
   "source": [
    "data = sentence.split()"
   ]
  },
  {
   "cell_type": "code",
   "execution_count": 25,
   "id": "e0645ed8-70b9-45d5-9d4e-12a28b0f912d",
   "metadata": {},
   "outputs": [
    {
     "data": {
      "text/plain": [
       "['start-of-sentence object that has a no-return boundary for other uses see black hole (disambiguation) end-of-sentence',\n",
       " 'start-of-sentence direct radio image of a supermassive black hole at the core of messier 87 animated simulation of a schwarzschild black hole with a galaxy passing behind end-of-sentence',\n",
       " 'start-of-sentence around the time of alignment extreme gravitational lensing of the galaxy is observed end-of-sentence',\n",
       " 'start-of-sentence a black hole is a region of spacetime where gravity is so strong that nothing including light and other electromagnetic waves has enough energy to escape it end-of-sentence',\n",
       " 'start-of-sentence einstein s theory of general relativity predicts that a sufficiently compact mass can deform spacetime to form a black hole end-of-sentence',\n",
       " 'start-of-sentence the boundary of no escape is called the event horizon end-of-sentence',\n",
       " 'start-of-sentence a black hole has a great effect on the fate and circumstances of an object crossing it but it has no locally detectable features according to general relativity end-of-sentence',\n",
       " 'start-of-sentence in many ways a black hole acts like an ideal black body as it reflects no light end-of-sentence',\n",
       " 'start-of-sentence moreover quantum field theory in curved spacetime predicts that event horizons emit hawking radiation with the same spectrum as a black body of a temperature inversely proportional to its mass end-of-sentence',\n",
       " 'start-of-sentence this temperature is of the order of billionths of a kelvin for stellar black holes making it essentially impossible to observe directly end-of-sentence',\n",
       " 'start-of-sentence objects whose gravitational fields are too strong for light to escape were first considered in the 18th century by john michell and pierre-simon laplace end-of-sentence',\n",
       " 'start-of-sentence in 1916 karl schwarzschild found the first modern solution of general relativity that would characterize a black hole end-of-sentence',\n",
       " 'start-of-sentence david finkelstein in 1958 first published the interpretation of black hole as a region of space from which nothing can escape end-of-sentence',\n",
       " 'start-of-sentence black holes were long considered a mathematical curiosity; it was not until the 1960s that theoretical work showed they were a generic prediction of general relativity end-of-sentence',\n",
       " 'start-of-sentence the discovery of neutron stars by jocelyn bell burnell in 1967 sparked interest in gravitationally collapsed compact objects as a possible astrophysical reality end-of-sentence',\n",
       " 'start-of-sentence the first black hole known was cygnus x-1 identified by several researchers independently in 1971 end-of-sentence',\n",
       " 'start-of-sentence black holes of stellar mass form when massive stars collapse at the end of their life cycle end-of-sentence',\n",
       " 'start-of-sentence after a black hole has formed it can grow by absorbing mass from its surroundings end-of-sentence',\n",
       " 'start-of-sentence supermassive black holes of millions of solar masses ( m ☉ ) may form by absorbing other stars and merging with other black holes or via direct collapse of gas clouds end-of-sentence',\n",
       " 'start-of-sentence there is consensus that supermassive black holes exist in the centres of most galaxies end-of-sentence',\n",
       " 'start-of-sentence the presence of a black hole can be inferred through its interaction with other matter and with electromagnetic radiation such as visible light end-of-sentence',\n",
       " 'start-of-sentence any matter that falls toward a black hole can form an external accretion disk heated by friction forming quasars some of the brightest objects in the universe end-of-sentence',\n",
       " 'start-of-sentence stars passing too close to a supermassive black hole can be shredded into streamers that shine very brightly before being swallowed end-of-sentence',\n",
       " 'start-of-sentence if other stars are orbiting a black hole their orbits can be used to determine the black hole s mass and location end-of-sentence',\n",
       " 'start-of-sentence such observations can be used to exclude possible alternatives such as neutron stars end-of-sentence',\n",
       " 'start-of-sentence in this way astronomers have identified numerous stellar black hole candidates in binary systems and established that the radio source known as sagittarius a* at the core of the milky way galaxy contains a supermassive black hole of about 4 end-of-sentence',\n",
       " 'start-of-sentence3xa0million solar masses end-of-sentence',\n",
       " 'start-of-sentence history [ edit ] the idea of a body so big that even light could not escape was briefly proposed by english astronomical pioneer and clergyman john michell in a letter published in november 1784 end-of-sentence',\n",
       " 'start-of-sentence michell s simplistic calculations assumed such a body might have the same density as the sun and concluded that one would form when a star s diameter exceeds the sun s by a factor of 500 and its surface escape velocity exceeds the usual speed of light end-of-sentence',\n",
       " 'start-of-sentence michell referred to these bodies as dark stars end-of-sentence',\n",
       " 'start-of-sentence he correctly noted that such supermassive but non-radiating bodies might be detectable through their gravitational effects on nearby visible bodies end-of-sentence',\n",
       " 'start-of-sentence scholars of the time were initially excited by the proposal that giant but invisible dark stars might be hiding in plain view but enthusiasm dampened when the wavelike nature of light became apparent in the early nineteenth century as if light were a wave rather than a particle it was unclear what if any influence gravity would have on escaping light waves end-of-sentence',\n",
       " 'start-of-sentence the modern theory of gravity general relativity discredits michell s notion of a light ray shooting directly from the surface of a supermassive star being slowed down by the star s gravity stopping and then free-falling back to the star s surface end-of-sentence',\n",
       " 'start-of-sentence instead spacetime itself is curved such that the geodesic light travels on never leaves the surface of the star (black hole) end-of-sentence',\n",
       " 'start-of-sentence general relativity [ edit ] see also: history of general relativity general relativity g μ ν + λ g μ ν = κ t μ ν {displaystyle g_{mu nu }+lambda g_{mu nu }={kappa }t_{mu nu }} introduction history timeline tests mathematical formulation fundamental concepts equivalence principle special relativity world line pseudo-riemannian manifold phenomena kepler problem gravitational lensing gravitational red shift gravitational time dilation gravitational waves frame-dragging geodetic effect event horizon singularity black hole spacetime spacetime diagrams minkowski spacetime einstein–rosen bridge equations formalisms equations linearized gravity einstein field equations friedmann geodesics mathisson–papapetrou–dixon hamilton–jacobi–einstein formalisms adm bssn post-newtonian advanced theory kaluza–klein theory quantum gravity solutions schwarzschild ( interior ) reissner–nordström gödel kerr kerr–newman kerr–newman–de sitter kasner lemaître–tolman taub–nut milne robertson–walker oppenheimer–snyder pp-wave van stockum dust weyl−lewis−papapetrou scientists einstein lorentz hilbert poincaré schwarzschild de sitter reissner nordström weyl eddington friedman milne zwicky lemaître oppenheimer gödel wheeler robertson bardeen walker kerr chandrasekhar ehlers penrose hawking raychaudhuri taylor hulse van stockum taub newman yau thorne others physics portal category v t e in 1915 albert einstein developed his theory of general relativity having earlier shown that gravity does influence light s motion end-of-sentence',\n",
       " 'start-of-sentence only a few months later karl schwarzschild found a solution to the einstein field equations that describes the gravitational field of a point mass and a spherical mass end-of-sentence',\n",
       " 'start-of-sentence a few months after schwarzschild johannes droste a student of hendrik lorentz independently gave the same solution for the point mass and wrote more extensively about its properties end-of-sentence',\n",
       " 'start-of-sentence this solution had a peculiar behaviour at what is now called the schwarzschild radius where it became singular meaning that some of the terms in the einstein equations became infinite end-of-sentence',\n",
       " 'start-of-sentence the nature of this surface was not quite understood at the time end-of-sentence',\n",
       " 'start-of-sentence in 1924 arthur eddington showed that the singularity disappeared after a change of coordinates although it took until 1933 for georges lemaître to realize that this meant the singularity at the schwarzschild radius was a non-physical coordinate singularity end-of-sentence',\n",
       " 'start-of-sentence arthur eddington did however comment on the possibility of a star with mass compressed to the schwarzschild radius in a 1926 book noting that einstein s theory allows us to rule out overly large densities for visible stars like betelgeuse because a star of 250 million km radius could not possibly have so high a density as the sun end-of-sentence',\n",
       " 'start-of-sentence firstly the force of gravitation would be so great that light would be unable to escape from it the rays falling back to the star like a stone to the earth end-of-sentence',\n",
       " 'start-of-sentence secondly the red shift of the spectral lines would be so great that the spectrum would be shifted out of existence end-of-sentence',\n",
       " 'start-of-sentence thirdly the mass would produce so much curvature of the spacetime metric that space would close up around the star leaving us outside (i end-of-sentence',\n",
       " 'start-of-sentencee end-of-sentence',\n",
       " 'start-of-sentence nowhere) end-of-sentence',\n",
       " 'start-of-sentence in 1931 subrahmanyan chandrasekhar calculated using special relativity that a non-rotating body of electron-degenerate matter above a certain limiting mass (now called the chandrasekhar limit at 1 end-of-sentence',\n",
       " 'start-of-sentence4 m ☉ ) has no stable solutions end-of-sentence',\n",
       " 'start-of-sentence his arguments were opposed by many of his contemporaries like eddington and lev landau who argued that some yet unknown mechanism would stop the collapse end-of-sentence',\n",
       " 'start-of-sentence they were partly correct: a white dwarf slightly more massive than the chandrasekhar limit will collapse into a neutron star which is itself stable end-of-sentence',\n",
       " 'start-of-sentence but in 1939 robert oppenheimer and others predicted that neutron stars above another limit (the tolman–oppenheimer–volkoff limit ) would collapse further for the reasons presented by chandrasekhar and concluded that no law of physics was likely to intervene and stop at least some stars from collapsing to black holes end-of-sentence',\n",
       " 'start-of-sentence their original calculations based on the pauli exclusion principle gave it as 0 end-of-sentence',\n",
       " 'start-of-sentence7 m ☉ ; subsequent consideration of neutron-neutron repulsion mediated by the strong force raised the estimate to approximately 1 end-of-sentence',\n",
       " 'start-of-sentence5 m ☉ to 3 end-of-sentence',\n",
       " 'start-of-sentence0 m ☉ end-of-sentence',\n",
       " 'start-of-sentence observations of the neutron star merger gw170817 which is thought to have generated a black hole shortly afterward have refined the tov limit estimate to ~2 end-of-sentence',\n",
       " 'start-of-sentence17 m ☉ end-of-sentence',\n",
       " 'start-of-sentence oppenheimer and his co-authors interpreted the singularity at the boundary of the schwarzschild radius as indicating that this was the boundary of a bubble in which time stopped end-of-sentence',\n",
       " 'start-of-sentence this is a valid point of view for external observers but not for infalling observers end-of-sentence',\n",
       " 'start-of-sentence because of this property the collapsed stars were called frozen stars because an outside observer would see the surface of the star frozen in time at the instant where its collapse takes it to the schwarzschild radius end-of-sentence',\n",
       " 'start-of-sentence also in 1939 einstein would attempt to prove that black holes were impossible in his publication on a stationary system with spherical symmetry consisting of many gravitating masses using his theory of general relativity to defend his argument end-of-sentence',\n",
       " 'start-of-sentence months later oppenheimer and his student hartland snyder would provide the oppenheimer–snyder model in their paper on continued gravitational contraction which predicted the existence of black holes end-of-sentence',\n",
       " 'start-of-sentence in the paper which made no reference to einstein s recent publication oppenheimer and snyder used einstein s own theory of general relativity to show the conditions on how a black hole could develop for the first time in contemporary physics end-of-sentence',\n",
       " 'start-of-sentence golden age [ edit ] in 1958 david finkelstein identified the schwarzschild surface as an event horizon a perfect unidirectional membrane: causal influences can cross it in only one direction end-of-sentence',\n",
       " 'start-of-sentence this did not strictly contradict oppenheimer s results but extended them to include the point of view of infalling observers end-of-sentence',\n",
       " 'start-of-sentence finkelstein s solution extended the schwarzschild solution for the future of observers falling into a black hole end-of-sentence',\n",
       " 'start-of-sentence a complete extension had already been found by martin kruskal who was urged to publish it end-of-sentence',\n",
       " 'start-of-sentence these results came at the beginning of the golden age of general relativity which was marked by general relativity and black holes becoming mainstream subjects of research end-of-sentence',\n",
       " 'start-of-sentence this process was helped by the discovery of pulsars by jocelyn bell burnell in 1967 which by 1969 were shown to be rapidly rotating neutron stars end-of-sentence',\n",
       " 'start-of-sentence until that time neutron stars like black holes were regarded as just theoretical curiosities; but the discovery of pulsars showed their physical relevance and spurred a further interest in all types of compact objects that might be formed by gravitational collapse end-of-sentence',\n",
       " 'start-of-sentence in this period more general black hole solutions were found end-of-sentence',\n",
       " 'start-of-sentence in 1963 roy kerr found the exact solution for a rotating black hole end-of-sentence',\n",
       " 'start-of-sentence two years later ezra newman found the axisymmetric solution for a black hole that is both rotating and electrically charged end-of-sentence',\n",
       " 'start-of-sentence through the work of werner israel brandon carter and david robinson the no-hair theorem emerged stating that a stationary black hole solution is completely described by the three parameters of the kerr–newman metric : mass angular momentum and electric charge end-of-sentence',\n",
       " 'start-of-sentence at first it was suspected that the strange features of the black hole solutions were pathological artifacts from the symmetry conditions imposed and that the singularities would not appear in generic situations end-of-sentence',\n",
       " 'start-of-sentence this view was held in particular by vladimir belinsky isaak khalatnikov and evgeny lifshitz who tried to prove that no singularities appear in generic solutions end-of-sentence',\n",
       " 'start-of-sentence however in the late 1960s roger penrose and stephen hawking used global techniques to prove that singularities appear generically end-of-sentence',\n",
       " 'start-of-sentence for this work penrose received half of the 2020 nobel prize in physics hawking having died in 2018 end-of-sentence',\n",
       " 'start-of-sentence based on observations in greenwich and toronto in the early 1970s cygnus x-1 a galactic x-ray source discovered in 1964 became the first astronomical object commonly accepted to be a black hole end-of-sentence',\n",
       " 'start-of-sentence work by james bardeen jacob bekenstein carter and hawking in the early 1970s led to the formulation of black hole thermodynamics end-of-sentence',\n",
       " 'start-of-sentence these laws describe the behaviour of a black hole in close analogy to the laws of thermodynamics by relating mass to energy area to entropy and surface gravity to temperature end-of-sentence',\n",
       " 'start-of-sentence the analogy was completed when hawking in 1974 showed that quantum field theory implies that black holes should radiate like a black body with a temperature proportional to the surface gravity of the black hole predicting the effect now known as hawking radiation end-of-sentence',\n",
       " 'start-of-sentence observation [ edit ] on 11 february 2016 the ligo scientific collaboration and the virgo collaboration announced the first direct detection of gravitational waves representing the first observation of a black hole merger end-of-sentence',\n",
       " 'start-of-sentence on 10 april 2019 the first direct image of a black hole and its vicinity was published following observations made by the event horizon telescope (eht) in 2017 of the supermassive black hole in messier 87 s galactic centre end-of-sentence',\n",
       " 'start-of-sentence as of 2023 [update] the nearest known body thought to be a black hole gaia bh1 is around 1 560 light-years (480 parsecs ) away end-of-sentence',\n",
       " 'start-of-sentence though only a couple dozen black holes have been found so far in the milky way there are thought to be hundreds of millions most of which are solitary and do not cause emission of radiation end-of-sentence',\n",
       " 'start-of-sentence therefore they would only be detectable by gravitational lensing end-of-sentence',\n",
       " 'start-of-sentence etymology [ edit ] john michell used the term dark star in a november 1783 letter to henry cavendish and in the early 20th century physicists used the term gravitationally collapsed object end-of-sentence',\n",
       " 'start-of-sentence science writer marcia bartusiak traces the term black hole to physicist robert h end-of-sentence',\n",
       " 'start-of-sentence dicke who in the early 1960s reportedly compared the phenomenon to the black hole of calcutta notorious as a prison where people entered but never left alive end-of-sentence',\n",
       " 'start-of-sentence the term black hole was used in print by life and science news magazines in 1963 and by science journalist ann ewing in her article black holes in space dated 18 january 1964 which was a report on a meeting of the american association for the advancement of science held in cleveland ohio end-of-sentence',\n",
       " 'start-of-sentence in december 1967 a student reportedly suggested the phrase black hole at a lecture by john wheeler ; wheeler adopted the term for its brevity and advertising value and it quickly caught on leading some to credit wheeler with coining the phrase end-of-sentence',\n",
       " 'start-of-sentence properties and structure [ edit ] the no-hair theorem postulates that once it achieves a stable condition after formation a black hole has only three independent physical properties: mass electric charge and angular momentum; the black hole is otherwise featureless end-of-sentence',\n",
       " 'start-of-sentence if the conjecture is true any two black holes that share the same values for these properties or parameters are indistinguishable from one another end-of-sentence',\n",
       " 'start-of-sentence the degree to which the conjecture is true for real black holes under the laws of modern physics is currently an unsolved problem end-of-sentence',\n",
       " 'start-of-sentence these properties are special because they are visible from outside a black hole end-of-sentence',\n",
       " 'start-of-sentence for example a charged black hole repels other like charges just like any other charged object end-of-sentence',\n",
       " 'start-of-sentence similarly the total mass inside a sphere containing a black hole can be found by using the gravitational analog of gauss s law (through the adm mass ) far away from the black hole end-of-sentence',\n",
       " 'start-of-sentence likewise the angular momentum (or spin) can be measured from far away using frame dragging by the gravitomagnetic field through for example the lense–thirring effect end-of-sentence',\n",
       " 'start-of-sentence artistic depiction of a black hole and its features when an object falls into a black hole any information about the shape of the object or distribution of charge on it is evenly distributed along the horizon of the black hole and is lost to outside observers end-of-sentence',\n",
       " 'start-of-sentence the behavior of the horizon in this situation is a dissipative system that is closely analogous to that of a conductive stretchy membrane with friction and electrical resistance —the membrane paradigm end-of-sentence',\n",
       " 'start-of-sentence this is different from other field theories such as electromagnetism which do not have any friction or resistivity at the microscopic level because they are time-reversible end-of-sentence',\n",
       " 'start-of-sentence because a black hole eventually achieves a stable state with only three parameters there is no way to avoid losing information about the initial conditions: the gravitational and electric fields of a black hole give very little information about what went in end-of-sentence',\n",
       " 'start-of-sentence the information that is lost includes every quantity that cannot be measured far away from the black hole horizon including approximately conserved quantum numbers such as the total baryon number and lepton number end-of-sentence',\n",
       " 'start-of-sentence this behavior is so puzzling that it has been called the black hole information loss paradox end-of-sentence',\n",
       " 'start-of-sentence physical properties [ edit ] an animation of how light rays can be gravitationally bent the simplest static black holes have mass but neither electric charge nor angular momentum end-of-sentence',\n",
       " 'start-of-sentence these black holes are often referred to as schwarzschild black holes after karl schwarzschild who discovered this solution in 1916 end-of-sentence',\n",
       " 'start-of-sentence according to birkhoff s theorem it is the only vacuum solution that is spherically symmetric end-of-sentence',\n",
       " 'start-of-sentence this means there is no observable difference at a distance between the gravitational field of such a black hole and that of any other spherical object of the same mass end-of-sentence',\n",
       " 'start-of-sentence the popular notion of a black hole sucking in everything in its surroundings is therefore correct only near a black hole s horizon; far away the external gravitational field is identical to that of any other body of the same mass end-of-sentence',\n",
       " 'start-of-sentence solutions describing more general black holes also exist end-of-sentence',\n",
       " 'start-of-sentence non-rotating charged black holes are described by the reissner–nordström metric while the kerr metric describes a non-charged rotating black hole end-of-sentence',\n",
       " 'start-of-sentence the most general stationary black hole solution known is the kerr–newman metric which describes a black hole with both charge and angular momentum end-of-sentence',\n",
       " 'start-of-sentence while the mass of a black hole can take any positive value the charge and angular momentum are constrained by the mass end-of-sentence',\n",
       " 'start-of-sentence the total electric charge q and the total angular momentum j are expected to satisfy the inequality q 2 4 π ϵ 0 + c 2 j 2 g m 2 ≤ g m 2 {displaystyle {frac {q^{2}}{4pi epsilon _{0}}}+{frac {c^{2}j^{2}}{gm^{2}}}leq gm^{2}} for a black hole of mass m end-of-sentence',\n",
       " 'start-of-sentence black holes with the minimum possible mass satisfying this inequality are called extremal end-of-sentence',\n",
       " 'start-of-sentence solutions of einstein s equations that violate this inequality exist but they do not possess an event horizon end-of-sentence',\n",
       " 'start-of-sentence these solutions have so-called naked singularities that can be observed from the outside and hence are deemed unphysical end-of-sentence',\n",
       " 'start-of-sentence the cosmic censorship hypothesis rules out the formation of such singularities when they are created through the gravitational collapse of realistic matter end-of-sentence',\n",
       " 'start-of-sentence this is supported by numerical simulations end-of-sentence',\n",
       " 'start-of-sentence due to the relatively large strength of the electromagnetic force black holes forming from the collapse of stars are expected to retain the nearly neutral charge of the star end-of-sentence',\n",
       " 'start-of-sentence rotation however is expected to be a universal feature of compact astrophysical objects end-of-sentence',\n",
       " 'start-of-sentence the black-hole candidate binary x-ray source grs 1915+105 appears to have an angular momentum near the maximum allowed value end-of-sentence',\n",
       " 'start-of-sentence that uncharged limit is j ≤ g m 2 c {displaystyle jleq {frac {gm^{2}}{c}} } allowing definition of a dimensionless spin parameter such that 0 ≤ c j g m 2 ≤ 1 end-of-sentence',\n",
       " 'start-of-sentence {displaystyle 0leq {frac {cj}{gm^{2}}}leq 1 end-of-sentence',\n",
       " 'start-of-sentence} [note 1] black hole classifications class approx end-of-sentence',\n",
       " 'start-of-sentence mass approx end-of-sentence',\n",
       " 'start-of-sentence radius ultramassive black hole 10 9 –10 11 m ☉ >1 000 au supermassive black hole 10 6 –10 9 m ☉ 0 end-of-sentence',\n",
       " 'start-of-sentence001–400 au intermediate-mass black hole 10 2 –10 5 m ☉ 10 3 km ≈ r earth stellar black hole 2-150 m ☉ 30xa0km micro black hole up to m moon up to 0 end-of-sentence',\n",
       " 'start-of-sentence1xa0mm black holes are commonly classified according to their mass independent of angular momentum j end-of-sentence',\n",
       " 'start-of-sentence the size of a black hole as determined by the radius of the event horizon or schwarzschild radius is proportional to the mass m through r= 2 g m c 2 ≈ 2 end-of-sentence',\n",
       " 'start-of-sentence95 m m ⊙ k m {displaystyle r_{mathrm {s} }={frac {2gm}{c^{2}}}approx 2 end-of-sentence',\n",
       " 'start-of-sentence95 {frac {m}{m_{odot }}}~mathrm {km } } where ris the schwarzschild radius and m ☉ is the mass of the sun end-of-sentence',\n",
       " 'start-of-sentence for a black hole with nonzero spin and/or electric charge the radius is smaller [note 2] until an extremal black hole could have an event horizon close to r + = g m c 2 end-of-sentence',\n",
       " 'start-of-sentence {displaystyle r_{mathrm {+} }={frac {gm}{c^{2}}} end-of-sentence',\n",
       " 'start-of-sentence} event horizon [ edit ] main article: event horizon far away from the black hole a particle can move in any direction as illustrated by the set of arrows end-of-sentence',\n",
       " 'start-of-sentence it is restricted only by the speed of light end-of-sentence',\n",
       " 'start-of-sentence closer to the black hole spacetime starts to deform end-of-sentence',\n",
       " 'start-of-sentence there are more paths going towards the black hole than paths moving away end-of-sentence',\n",
       " 'start-of-sentence [note 3] inside of the event horizon all paths bring the particle closer to the centre of the black hole end-of-sentence',\n",
       " 'start-of-sentence it is no longer possible for the particle to escape end-of-sentence',\n",
       " 'start-of-sentence the defining feature of a black hole is the appearance of an event horizon—a boundary in spacetime through which matter and light can pass only inward towards the mass of the black hole end-of-sentence',\n",
       " 'start-of-sentence nothing not even light can escape from inside the event horizon end-of-sentence',\n",
       " 'start-of-sentence the event horizon is referred to as such because if an event occurs within the boundary information from that event cannot reach an outside observer making it impossible to determine whether such an event occurred end-of-sentence',\n",
       " 'start-of-sentence as predicted by general relativity the presence of a mass deforms spacetime in such a way that the paths taken by particles bend towards the mass end-of-sentence',\n",
       " 'start-of-sentence at the event horizon of a black hole this deformation becomes so strong that there are no paths that lead away from the black hole end-of-sentence',\n",
       " 'start-of-sentence to a distant observer clocks near a black hole would appear to tick more slowly than those farther away from the black hole end-of-sentence',\n",
       " 'start-of-sentence due to this effect known as gravitational time dilation an object falling into a black hole appears to slow as it approaches the event horizon taking an infinite time to reach it end-of-sentence',\n",
       " 'start-of-sentence at the same time all processes on this object slow down from the viewpoint of a fixed outside observer causing any light emitted by the object to appear redder and dimmer an effect known as gravitational redshift end-of-sentence',\n",
       " 'start-of-sentence eventually the falling object fades away until it can no longer be seen end-of-sentence',\n",
       " 'start-of-sentence typically this process happens very rapidly with an object disappearing from view within less than a second end-of-sentence',\n",
       " 'start-of-sentence on the other hand indestructible observers falling into a black hole do not notice any of these effects as they cross the event horizon end-of-sentence',\n",
       " 'start-of-sentence according to their own clocks which appear to them to tick normally they cross the event horizon after a finite time without noting any singular behaviour; in classical general relativity it is impossible to determine the location of the event horizon from local observations due to einstein s equivalence principle end-of-sentence',\n",
       " 'start-of-sentence the topology of the event horizon of a black hole at equilibrium is always spherical end-of-sentence',\n",
       " 'start-of-sentence [note 4] for non-rotating (static) black holes the geometry of the event horizon is precisely spherical while for rotating black holes the event horizon is oblate end-of-sentence',\n",
       " 'start-of-sentence singularity [ edit ] main article: gravitational singularity at the centre of a black hole as described by general relativity may lie a gravitational singularity a region where the spacetime curvature becomes infinite end-of-sentence',\n",
       " 'start-of-sentence for a non-rotating black hole this region takes the shape of a single point; for a rotating black hole it is smeared out to form a ring singularity that lies in the plane of rotation end-of-sentence',\n",
       " 'start-of-sentence in both cases the singular region has zero volume end-of-sentence',\n",
       " 'start-of-sentence it can also be shown that the singular region contains all the mass of the black hole solution end-of-sentence',\n",
       " 'start-of-sentence the singular region can thus be thought of as having infinite density end-of-sentence',\n",
       " 'start-of-sentence observers falling into a schwarzschild black hole (i end-of-sentence',\n",
       " 'start-of-sentencee end-of-sentence',\n",
       " 'start-of-sentence non-rotating and not charged) cannot avoid being carried into the singularity once they cross the event horizon end-of-sentence',\n",
       " 'start-of-sentence they can prolong the experience by accelerating away to slow their descent but only up to a limit end-of-sentence',\n",
       " 'start-of-sentence when they reach the singularity they are crushed to infinite density and their mass is added to the total of the black hole end-of-sentence',\n",
       " 'start-of-sentence before that happens they will have been torn apart by the growing tidal forces in a process sometimes referred to as spaghettification or the noodle effect end-of-sentence',\n",
       " 'start-of-sentence in the case of a charged (reissner–nordström) or rotating (kerr) black hole it is possible to avoid the singularity end-of-sentence',\n",
       " 'start-of-sentence extending these solutions as far as possible reveals the hypothetical possibility of exiting the black hole into a different spacetime with the black hole acting as a wormhole end-of-sentence',\n",
       " 'start-of-sentence the possibility of traveling to another universe is however only theoretical since any perturbation would destroy this possibility end-of-sentence',\n",
       " 'start-of-sentence it also appears to be possible to follow closed timelike curves (returning to one s own past) around the kerr singularity which leads to problems with causality like the grandfather paradox end-of-sentence',\n",
       " 'start-of-sentence it is expected that none of these peculiar effects would survive in a proper quantum treatment of rotating and charged black holes end-of-sentence',\n",
       " 'start-of-sentence the appearance of singularities in general relativity is commonly perceived as signaling the breakdown of the theory end-of-sentence',\n",
       " 'start-of-sentence this breakdown however is expected; it occurs in a situation where quantum effects should describe these actions due to the extremely high density and therefore particle interactions end-of-sentence',\n",
       " 'start-of-sentence to date it has not been possible to combine quantum and gravitational effects into a single theory although there exist attempts to formulate such a theory of quantum gravity end-of-sentence',\n",
       " 'start-of-sentence it is generally expected that such a theory will not feature any singularities end-of-sentence',\n",
       " 'start-of-sentence photon sphere [ edit ] main article: photon sphere the photon sphere is a spherical boundary of zero thickness in which photons that move on tangents to that sphere would be trapped in a circular orbit about the black hole end-of-sentence',\n",
       " 'start-of-sentence for non-rotating black holes the photon sphere has a radius 1 end-of-sentence',\n",
       " 'start-of-sentence5 times the schwarzschild radius end-of-sentence',\n",
       " 'start-of-sentence their orbits would be dynamically unstable hence any small perturbation such as a particle of infalling matter would cause an instability that would grow over time either setting the photon on an outward trajectory causing it to escape the black hole or on an inward spiral where it would eventually cross the event horizon end-of-sentence',\n",
       " 'start-of-sentence while light can still escape from the photon sphere any light that crosses the photon sphere on an inbound trajectory will be captured by the black hole end-of-sentence',\n",
       " 'start-of-sentence hence any light that reaches an outside observer from the photon sphere must have been emitted by objects between the photon sphere and the event horizon end-of-sentence',\n",
       " 'start-of-sentence for a kerr black hole the radius of the photon sphere depends on the spin parameter and on the details of the photon orbit which can be prograde (the photon rotates in the same sense of the black hole spin) or retrograde end-of-sentence',\n",
       " 'start-of-sentence ergosphere [ edit ] main article: ergosphere the ergosphere is a region outside of the event horizon where objects cannot remain in place end-of-sentence',\n",
       " 'start-of-sentence rotating black holes are surrounded by a region of spacetime in which it is impossible to stand still called the ergosphere end-of-sentence',\n",
       " 'start-of-sentence this is the result of a process known as frame-dragging ; general relativity predicts that any rotating mass will tend to slightly drag along the spacetime immediately surrounding it end-of-sentence',\n",
       " 'start-of-sentence any object near the rotating mass will tend to start moving in the direction of rotation end-of-sentence',\n",
       " 'start-of-sentence for a rotating black hole this effect is so strong near the event horizon that an object would have to move faster than the speed of light in the opposite direction to just stand still end-of-sentence',\n",
       " 'start-of-sentence the ergosphere of a black hole is a volume bounded by the black hole s event horizon and the ergosurface which coincides with the event horizon at the poles but is at a much greater distance around the equator end-of-sentence',\n",
       " 'start-of-sentence objects and radiation can escape normally from the ergosphere end-of-sentence',\n",
       " 'start-of-sentence through the penrose process objects can emerge from the ergosphere with more energy than they entered with end-of-sentence',\n",
       " 'start-of-sentence the extra energy is taken from the rotational energy of the black hole end-of-sentence',\n",
       " 'start-of-sentence thereby the rotation of the black hole slows down end-of-sentence',\n",
       " 'start-of-sentence a variation of the penrose process in the presence of strong magnetic fields the blandford–znajek process is considered a likely mechanism for the enormous luminosity and relativistic jets of quasars and other active galactic nuclei end-of-sentence',\n",
       " 'start-of-sentence innermost stable circular orbit (isco) [ edit ] main article: innermost stable circular orbit in newtonian gravity test particles can stably orbit at arbitrary distances from a central object end-of-sentence',\n",
       " 'start-of-sentence in general relativity however there exists an innermost stable circular orbit (often called the isco) for which any infinitesimal inward perturbations to a circular orbit will lead to spiraling into the black hole and any outward perturbations will depending on the energy result in spiraling in stably orbiting between apastron and periastron or escaping to infinity end-of-sentence',\n",
       " 'start-of-sentence the location of the isco depends on the spin of the black hole in the case of a schwarzschild black hole (spin zero) is: r ic o = 3 r= 6 g m c 2 {displaystyle r_{rm {isco}}=3 r_{s}={frac {6 gm}{c^{2}}} } and decreases with increasing black hole spin for particles orbiting in the same direction as the spin end-of-sentence',\n",
       " 'start-of-sentence formation and evolution [ edit ] given the bizarre character of black holes it was long questioned whether such objects could actually exist in nature or whether they were merely pathological solutions to einstein s equations end-of-sentence',\n",
       " 'start-of-sentence einstein himself wrongly thought black holes would not form because he held that the angular momentum of collapsing particles would stabilize their motion at some radius end-of-sentence',\n",
       " 'start-of-sentence this led the general relativity community to dismiss all results to the contrary for many years end-of-sentence',\n",
       " 'start-of-sentence however a minority of relativists continued to contend that black holes were physical objects and by the end of the 1960s they had persuaded the majority of researchers in the field that there is no obstacle to the formation of an event horizon end-of-sentence',\n",
       " 'start-of-sentence penrose demonstrated that once an event horizon forms general relativity without quantum mechanics requires that a singularity will form within end-of-sentence',\n",
       " 'start-of-sentence shortly afterwards hawking showed that many cosmological solutions that describe the big bang have singularities without scalar fields or other exotic matter end-of-sentence',\n",
       " 'start-of-sentence [ clarification needed ] the kerr solution the no-hair theorem and the laws of black hole thermodynamics showed that the physical properties of black holes were simple and comprehensible making them respectable subjects for research end-of-sentence',\n",
       " 'start-of-sentence conventional black holes are formed by gravitational collapse of heavy objects such as stars but they can also in theory be formed by other processes end-of-sentence',\n",
       " 'start-of-sentence gravitational collapse [ edit ] main article: gravitational collapse gas cloud being ripped apart by black hole at the centre of the milky way (observations from 2006 2010 and 2013 are shown in blue green and red respectively) end-of-sentence',\n",
       " 'start-of-sentence gravitational collapse occurs when an object s internal pressure is insufficient to resist the object s own gravity end-of-sentence',\n",
       " 'start-of-sentence for stars this usually occurs either because a star has too little fuel left to maintain its temperature through stellar nucleosynthesis or because a star that would have been stable receives extra matter in a way that does not raise its core temperature end-of-sentence',\n",
       " 'start-of-sentence in either case the star s temperature is no longer high enough to prevent it from collapsing under its own weight end-of-sentence',\n",
       " 'start-of-sentence the collapse may be stopped by the degeneracy pressure of the star s constituents allowing the condensation of matter into an exotic denser state end-of-sentence',\n",
       " 'start-of-sentence the result is one of the various types of compact star end-of-sentence',\n",
       " 'start-of-sentence which type forms depends on the mass of the remnant of the original star left if the outer layers have been blown away (for example in a type ii supernova ) end-of-sentence',\n",
       " 'start-of-sentence the mass of the remnant the collapsed object that survives the explosion can be substantially less than that of the original star end-of-sentence',\n",
       " 'start-of-sentence remnants exceeding 5 m ☉ are produced by stars that were over 20 m ☉ before the collapse end-of-sentence',\n",
       " 'start-of-sentence if the mass of the remnant exceeds about 3–4 m ☉ (the tolman–oppenheimer–volkoff limit ) either because the original star was very heavy or because the remnant collected additional mass through accretion of matter even the degeneracy pressure of neutrons is insufficient to stop the collapse end-of-sentence',\n",
       " 'start-of-sentence no known mechanism (except possibly quark degeneracy pressure) is powerful enough to stop the implosion and the object will inevitably collapse to form a black hole end-of-sentence',\n",
       " 'start-of-sentence the gravitational collapse of heavy stars is assumed to be responsible for the formation of stellar mass black holes end-of-sentence',\n",
       " 'start-of-sentence star formation in the early universe may have resulted in very massive stars which upon their collapse would have produced black holes of up to 10 3 m ☉ end-of-sentence',\n",
       " 'start-of-sentence these black holes could be the seeds of the supermassive black holes found in the centres of most galaxies end-of-sentence',\n",
       " 'start-of-sentence it has further been suggested that massive black holes with typical masses of ~10 5 m ☉ could have formed from the direct collapse of gas clouds in the young universe end-of-sentence',\n",
       " 'start-of-sentence these massive objects have been proposed as the seeds that eventually formed the earliest quasars observed already at redshift z ∼ 7 {displaystyle zsim 7} end-of-sentence',\n",
       " 'start-of-sentence some candidates for such objects have been found in observations of the young universe end-of-sentence',\n",
       " 'start-of-sentence while most of the energy released during gravitational collapse is emitted very quickly an outside observer does not actually see the end of this process end-of-sentence',\n",
       " 'start-of-sentence even though the collapse takes a finite amount of time from the reference frame of infalling matter a distant observer would see the infalling material slow and halt just above the event horizon due to gravitational time dilation end-of-sentence',\n",
       " 'start-of-sentence light from the collapsing material takes longer and longer to reach the observer with the light emitted just before the event horizon forms delayed an infinite amount of time end-of-sentence',\n",
       " 'start-of-sentence thus the external observer never sees the formation of the event horizon; instead the collapsing material seems to become dimmer and increasingly red-shifted eventually fading away end-of-sentence',\n",
       " 'start-of-sentence primordial black holes and the big bang [ edit ] gravitational collapse requires great density end-of-sentence',\n",
       " 'start-of-sentence in the current epoch of the universe these high densities are found only in stars but in the early universe shortly after the big bang densities were much greater possibly allowing for the creation of black holes end-of-sentence',\n",
       " 'start-of-sentence high density alone is not enough to allow black hole formation since a uniform mass distribution will not allow the mass to bunch up end-of-sentence',\n",
       " 'start-of-sentence in order for primordial black holes to have formed in such a dense medium there must have been initial density perturbations that could then grow under their own gravity end-of-sentence',\n",
       " 'start-of-sentence different models for the early universe vary widely in their predictions of the scale of these fluctuations end-of-sentence',\n",
       " 'start-of-sentence various models predict the creation of primordial black holes ranging in size from a planck mass ( m p = ℏ c / g {displaystyle m_{p}={sqrt {hbar c/g}}} ≈ 1 end-of-sentence',\n",
       " 'start-of-sentence2 × 10 19 gev/ c 2 ≈ 2 end-of-sentence',\n",
       " 'start-of-sentence2 × 10 −8 kg ) to hundreds of thousands of solar masses end-of-sentence',\n",
       " 'start-of-sentence despite the early universe being extremely dense it did not re-collapse into a black hole during the big bang since the expansion rate was greater than the attraction end-of-sentence',\n",
       " 'start-of-sentence following inflation theory there was a net repulsive gravitation in the beginning until the end of inflation end-of-sentence',\n",
       " 'start-of-sentence since then the hubble flow was slowed by the energy density of the universe end-of-sentence',\n",
       " 'start-of-sentence models for the gravitational collapse of objects of relatively constant size such as stars do not necessarily apply in the same way to rapidly expanding space such as the big bang end-of-sentence',\n",
       " 'start-of-sentence high-energy collisions [ edit ] gravitational collapse is not the only process that could create black holes end-of-sentence',\n",
       " 'start-of-sentence in principle black holes could be formed in high-energy collisions that achieve sufficient density end-of-sentence',\n",
       " 'start-of-sentence as of 2002 no such events have been detected either directly or indirectly as a deficiency of the mass balance in particle accelerator experiments end-of-sentence',\n",
       " 'start-of-sentence this suggests that there must be a lower limit for the mass of black holes end-of-sentence',\n",
       " 'start-of-sentence theoretically this boundary is expected to lie around the planck mass where quantum effects are expected to invalidate the predictions of general relativity end-of-sentence',\n",
       " 'start-of-sentence this would put the creation of black holes firmly out of reach of any high-energy process occurring on or near the earth end-of-sentence',\n",
       " 'start-of-sentence however certain developments in quantum gravity suggest that the minimum black hole mass could be much lower: some braneworld scenarios for example put the boundary as low as 1xa0tev/ c 2 end-of-sentence',\n",
       " 'start-of-sentence this would make it conceivable for micro black holes to be created in the high-energy collisions that occur when cosmic rays hit the earth s atmosphere or possibly in the large hadron collider at cern end-of-sentence',\n",
       " 'start-of-sentence these theories are very speculative and the creation of black holes in these processes is deemed unlikely by many specialists end-of-sentence',\n",
       " 'start-of-sentence even if micro black holes could be formed it is expected that they would evaporate in about 10 −25 seconds posing no threat to the earth end-of-sentence',\n",
       " 'start-of-sentence growth [ edit ] once a black hole has formed it can continue to grow by absorbing additional matter end-of-sentence',\n",
       " 'start-of-sentence any black hole will continually absorb gas and interstellar dust from its surroundings end-of-sentence',\n",
       " 'start-of-sentence this growth process is one possible way through which some supermassive black holes may have been formed although the formation of supermassive black holes is still an open field of research end-of-sentence',\n",
       " 'start-of-sentence a similar process has been suggested for the formation of intermediate-mass black holes found in globular clusters end-of-sentence',\n",
       " 'start-of-sentence black holes can also merge with other objects such as stars or even other black holes end-of-sentence',\n",
       " 'start-of-sentence this is thought to have been important especially in the early growth of supermassive black holes which could have formed from the aggregation of many smaller objects end-of-sentence',\n",
       " 'start-of-sentence the process has also been proposed as the origin of some intermediate-mass black holes end-of-sentence',\n",
       " 'start-of-sentence evaporation [ edit ] main article: hawking radiation in 1974 hawking predicted that black holes are not entirely black but emit small amounts of thermal radiation at a temperature ℏ c 3 /(8π gm k b ); this effect has become known as hawking radiation end-of-sentence',\n",
       " 'start-of-sentence by applying quantum field theory to a static black hole background he determined that a black hole should emit particles that display a perfect black body spectrum end-of-sentence',\n",
       " 'start-of-sentence since hawking s publication many others have verified the result through various approaches end-of-sentence',\n",
       " 'start-of-sentence if hawking s theory of black hole radiation is correct then black holes are expected to shrink and evaporate over time as they lose mass by the emission of photons and other particles end-of-sentence',\n",
       " 'start-of-sentence the temperature of this thermal spectrum ( hawking temperature ) is proportional to the surface gravity of the black hole which for a schwarzschild black hole is inversely proportional to the mass end-of-sentence',\n",
       " 'start-of-sentence hence large black holes emit less radiation than small black holes end-of-sentence',\n",
       " 'start-of-sentence a stellar black hole of 1 m ☉ has a hawking temperature of 62 nanokelvins end-of-sentence',\n",
       " 'start-of-sentence this is far less than the 2 end-of-sentence',\n",
       " 'start-of-sentence7xa0k temperature of the cosmic microwave background radiation end-of-sentence',\n",
       " 'start-of-sentence stellar-mass or larger black holes receive more mass from the cosmic microwave background than they emit through hawking radiation and thus will grow instead of shrinking end-of-sentence',\n",
       " 'start-of-sentence to have a hawking temperature larger than 2 end-of-sentence',\n",
       " 'start-of-sentence7xa0k (and be able to evaporate) a black hole would need a mass less than the moon end-of-sentence',\n",
       " 'start-of-sentence such a black hole would have a diameter of less than a tenth of a millimeter end-of-sentence',\n",
       " 'start-of-sentence if a black hole is very small the radiation effects are expected to become very strong end-of-sentence',\n",
       " 'start-of-sentence a black hole with the mass of a car would have a diameter of about 10 −24 m and take a nanosecond to evaporate during which time it would briefly have a luminosity of more than 200 times that of the sun end-of-sentence',\n",
       " 'start-of-sentence lower-mass black holes are expected to evaporate even faster; for example a black hole of mass 1xa0tev/ c 2 would take less than 10 −88 seconds to evaporate completely end-of-sentence',\n",
       " 'start-of-sentence for such a small black hole quantum gravity effects are expected to play an important role and could hypothetically make such a small black hole stable although current developments in quantum gravity do not indicate this is the case end-of-sentence',\n",
       " 'start-of-sentence the hawking radiation for an astrophysical black hole is predicted to be very weak and would thus be exceedingly difficult to detect from earth end-of-sentence',\n",
       " 'start-of-sentence a possible exception however is the burst of gamma rays emitted in the last stage of the evaporation of primordial black holes end-of-sentence',\n",
       " 'start-of-sentence searches for such flashes have proven unsuccessful and provide stringent limits on the possibility of existence of low mass primordial black holes end-of-sentence',\n",
       " 'start-of-sentence nasa s fermi gamma-ray space telescope launched in 2008 will continue the search for these flashes end-of-sentence',\n",
       " 'start-of-sentence if black holes evaporate via hawking radiation a solar mass black hole will evaporate (beginning once the temperature of the cosmic microwave background drops below that of the black hole) over a period of 10 64 years end-of-sentence',\n",
       " 'start-of-sentence a supermassive black hole with a mass of 10 11 m ☉ will evaporate in around 2×10 100 years end-of-sentence',\n",
       " 'start-of-sentence some monster black holes in the universe are predicted to continue to grow up to perhaps 10 14 m ☉ during the collapse of superclusters of galaxies end-of-sentence',\n",
       " 'start-of-sentence even these would evaporate over a timescale of up to 10 106 years end-of-sentence',\n",
       " 'start-of-sentence some models of quantum gravity predict modifications of the hawking description of black holes end-of-sentence',\n",
       " 'start-of-sentence in particular the evolution equations describing the mass loss rate and charge loss rate get modified end-of-sentence',\n",
       " 'start-of-sentence observational evidence [ edit ] by nature black holes do not themselves emit any electromagnetic radiation other than the hypothetical hawking radiation so astrophysicists searching for black holes must generally rely on indirect observations end-of-sentence',\n",
       " 'start-of-sentence for example a black hole s existence can sometimes be inferred by observing its gravitational influence on its surroundings end-of-sentence',\n",
       " 'start-of-sentence direct interferometry [ edit ] a view of m87* black hole in polarised light sagittarius a* black hole in the center of the milky way the event horizon telescope (eht) is an active program that directly observes the immediate environment of black holes event horizons such as the black hole at the centre of the milky way end-of-sentence',\n",
       " 'start-of-sentence in april 2017 eht began observing the black hole at the centre of messier 87 end-of-sentence',\n",
       " 'start-of-sentence in all eight radio observatories on six mountains and four continents observed the galaxy in virgo on and off for 10 days in april 2017 to provide the data yielding the image in april 2019 end-of-sentence',\n",
       " 'start-of-sentence after two years of data processing eht released the first direct image of a black hole; specifically the supermassive black hole that lies in the centre of the aforementioned galaxy end-of-sentence',\n",
       " 'start-of-sentence what is visible is not the black hole—which shows as black because of the loss of all light within this dark region end-of-sentence',\n",
       " 'start-of-sentence instead it is the gases at the edge of the event horizon (displayed as orange or red) that define the black hole end-of-sentence',\n",
       " 'start-of-sentence on 12 may 2022 the eht released the first image of sagittarius a* the supermassive black hole at the centre of the milky way galaxy end-of-sentence',\n",
       " 'start-of-sentence the published image displayed the same ring-like structure and circular shadow as seen in the m87* black hole and the image was created using the same techniques as for the m87 black hole end-of-sentence',\n",
       " 'start-of-sentence however the imaging process for sagittarius a* which is more than a thousand times smaller and less massive than m87* was significantly more complex because of the instability of its surroundings end-of-sentence',\n",
       " 'start-of-sentence the image of sagittarius a* was also partially blurred by turbulent plasma on the way to the galactic centre an effect which prevents resolution of the image at longer wavelengths end-of-sentence',\n",
       " 'start-of-sentence the brightening of this material in the bottom half of the processed eht image is thought to be caused by doppler beaming whereby material approaching the viewer at relativistic speeds is perceived as brighter than material moving away end-of-sentence',\n",
       " 'start-of-sentence in the case of a black hole this phenomenon implies that the visible material is rotating at relativistic speeds (>1 000xa0km/sxa0[2 200 000xa0mph]) the only speeds at which it is possible to centrifugally balance the immense gravitational attraction of the singularity and thereby remain in orbit above the event horizon end-of-sentence',\n",
       " 'start-of-sentence this configuration of bright material implies that the eht observed m87* from a perspective catching the black hole s accretion disc nearly edge-on as the whole system rotated clockwise end-of-sentence',\n",
       " 'start-of-sentence however the extreme gravitational lensing associated with black holes produces the illusion of a perspective that sees the accretion disc from above end-of-sentence',\n",
       " 'start-of-sentence in reality most of the ring in the eht image was created when the light emitted by the far side of the accretion disc bent around the black hole s gravity well and escaped meaning that most of the possible perspectives on m87* can see the entire disc even that directly behind the shadow end-of-sentence',\n",
       " 'start-of-sentence in 2015 the eht detected magnetic fields just outside the event horizon of sagittarius a* and even discerned some of their properties end-of-sentence',\n",
       " 'start-of-sentence the field lines that pass through the accretion disc were a complex mixture of ordered and tangled end-of-sentence',\n",
       " 'start-of-sentence theoretical studies of black holes had predicted the existence of magnetic fields end-of-sentence',\n",
       " 'start-of-sentence in april 2023 an image of the shadow of the messier 87 black hole and the related high-energy jet viewed together for the first time was presented end-of-sentence',\n",
       " 'start-of-sentence detection of gravitational waves from merging black holes [ edit ] ligo measurement of the gravitational waves at the livingston (right) and hanford (left) detectors compared with the theoretical predicted values on 14 september 2015 the ligo gravitational wave observatory made the first-ever successful direct observation of gravitational waves end-of-sentence',\n",
       " 'start-of-sentence the signal was consistent with theoretical predictions for the gravitational waves produced by the merger of two black holes: one with about 36 solar masses and the other around 29 solar masses end-of-sentence',\n",
       " 'start-of-sentence this observation provides the most concrete evidence for the existence of black holes to date end-of-sentence',\n",
       " 'start-of-sentence for instance the gravitational wave signal suggests that the separation of the two objects before the merger was just 350xa0km (or roughly four times the schwarzschild radius corresponding to the inferred masses) end-of-sentence',\n",
       " 'start-of-sentence the objects must therefore have been extremely compact leaving black holes as the most plausible interpretation end-of-sentence',\n",
       " 'start-of-sentence more importantly the signal observed by ligo also included the start of the post-merger ringdown the signal produced as the newly formed compact object settles down to a stationary state end-of-sentence',\n",
       " 'start-of-sentence arguably the ringdown is the most direct way of observing a black hole end-of-sentence',\n",
       " 'start-of-sentence from the ligo signal it is possible to extract the frequency and damping time of the dominant mode of the ringdown end-of-sentence',\n",
       " 'start-of-sentence from these it is possible to infer the mass and angular momentum of the final object which match independent predictions from numerical simulations of the merger end-of-sentence',\n",
       " 'start-of-sentence the frequency and decay time of the dominant mode are determined by the geometry of the photon sphere end-of-sentence',\n",
       " 'start-of-sentence hence observation of this mode confirms the presence of a photon sphere; however it cannot exclude possible exotic alternatives to black holes that are compact enough to have a photon sphere end-of-sentence',\n",
       " 'start-of-sentence the observation also provides the first observational evidence for the existence of stellar-mass black hole binaries end-of-sentence',\n",
       " 'start-of-sentence furthermore it is the first observational evidence of stellar-mass black holes weighing 25 solar masses or more end-of-sentence',\n",
       " 'start-of-sentence since then many more gravitational wave events have been observed end-of-sentence',\n",
       " 'start-of-sentence stars orbiting sagittarius a* [ edit ] main article: sagittarius a* cluster stars moving around sagittarius a* as seen in 2021 the proper motions of stars near the centre of our own milky way provide strong observational evidence that these stars are orbiting a supermassive black hole end-of-sentence',\n",
       " 'start-of-sentence since 1995 astronomers have tracked the motions of 90 stars orbiting an invisible object coincident with the radio source sagittarius a* end-of-sentence',\n",
       " 'start-of-sentence by fitting their motions to keplerian orbits the astronomers were able to infer in 1998 that a 2 end-of-sentence',\n",
       " 'start-of-sentence6 × 10 6 m ☉ object must be contained in a volume with a radius of 0 end-of-sentence',\n",
       " 'start-of-sentence02 light-years to cause the motions of those stars end-of-sentence',\n",
       " 'start-of-sentence since then one of the stars—called s2 —has completed a full orbit end-of-sentence',\n",
       " 'start-of-sentence from the orbital data astronomers were able to refine the calculations of the mass to 4 end-of-sentence',\n",
       " 'start-of-sentence3 × 10 6 m ☉ and a radius of less than 0 end-of-sentence',\n",
       " 'start-of-sentence002 light-years for the object causing the orbital motion of those stars end-of-sentence',\n",
       " 'start-of-sentence the upper limit on the object s size is still too large to test whether it is smaller than its schwarzschild radius; nevertheless these observations strongly suggest that the central object is a supermassive black hole as there are no other plausible scenarios for confining so much invisible mass into such a small volume end-of-sentence',\n",
       " 'start-of-sentence additionally there is some observational evidence that this object might possess an event horizon a feature unique to black holes end-of-sentence',\n",
       " 'start-of-sentence accretion of matter [ edit ] see also: accretion disk blurring of x-rays near black hole ( nustar ; 12 august 2014) due to conservation of angular momentum gas falling into the gravitational well created by a massive object will typically form a disk-like structure around the object end-of-sentence',\n",
       " 'start-of-sentence artists impressions such as the accompanying representation of a black hole with corona commonly depict the black hole as if it were a flat-space body hiding the part of the disk just behind it but in reality gravitational lensing would greatly distort the image of the accretion disk end-of-sentence',\n",
       " 'start-of-sentence within such a disk friction would cause angular momentum to be transported outward allowing matter to fall farther inward thus releasing potential energy and increasing the temperature of the gas end-of-sentence',\n",
       " 'start-of-sentence when the accreting object is a neutron star or a black hole the gas in the inner accretion disk orbits at very high speeds because of its proximity to the compact object end-of-sentence',\n",
       " 'start-of-sentence the resulting friction is so significant that it heats the inner disk to temperatures at which it emits vast amounts of electromagnetic radiation (mainly x-rays) end-of-sentence',\n",
       " 'start-of-sentence these bright x-ray sources may be detected by telescopes end-of-sentence',\n",
       " 'start-of-sentence this process of accretion is one of the most efficient energy-producing processes known; up to 40% of the rest mass of the accreted material can be emitted as radiation end-of-sentence',\n",
       " 'start-of-sentence (in nuclear fusion only about 0 end-of-sentence',\n",
       " 'start-of-sentence7% of the rest mass will be emitted as energy end-of-sentence',\n",
       " 'start-of-sentence) in many cases accretion disks are accompanied by relativistic jets that are emitted along the poles which carry away much of the energy end-of-sentence',\n",
       " 'start-of-sentence the mechanism for the creation of these jets is currently not well understood in part due to insufficient data end-of-sentence',\n",
       " 'start-of-sentence as such many of the universe s more energetic phenomena have been attributed to the accretion of matter on black holes end-of-sentence',\n",
       " 'start-of-sentence in particular active galactic nuclei and quasars are believed to be the accretion disks of supermassive black holes end-of-sentence',\n",
       " 'start-of-sentence similarly x-ray binaries are generally accepted to be binary star systems in which one of the two stars is a compact object accreting matter from its companion end-of-sentence',\n",
       " 'start-of-sentence it has also been suggested that some ultraluminous x-ray sources may be the accretion disks of intermediate-mass black holes end-of-sentence',\n",
       " 'start-of-sentence in november 2011 the first direct observation of a quasar accretion disk around a supermassive black hole was reported end-of-sentence',\n",
       " 'start-of-sentence x-ray binaries [ edit ] see also: x-ray binary a chandra x-ray observatory image of cygnus x-1 which was the first strong black hole candidate discovered x-ray binaries are binary star systems that emit a majority of their radiation in the x-ray part of the spectrum end-of-sentence',\n",
       " 'start-of-sentence these x-ray emissions are generally thought to result when one of the stars (compact object) accretes matter from another (regular) star end-of-sentence',\n",
       " 'start-of-sentence the presence of an ordinary star in such a system provides an opportunity for studying the central object and to determine if it might be a black hole end-of-sentence',\n",
       " 'start-of-sentence if such a system emits signals that can be directly traced back to the compact object it cannot be a black hole end-of-sentence',\n",
       " 'start-of-sentence the absence of such a signal does however not exclude the possibility that the compact object is a neutron star end-of-sentence',\n",
       " 'start-of-sentence by studying the companion star it is often possible to obtain the orbital parameters of the system and to obtain an estimate for the mass of the compact object end-of-sentence',\n",
       " 'start-of-sentence if this is much larger than the tolman–oppenheimer–volkoff limit (the maximum mass a star can have without collapsing) then the object cannot be a neutron star and is generally expected to be a black hole end-of-sentence',\n",
       " 'start-of-sentence the first strong candidate for a black hole cygnus x-1 was discovered in this way by charles thomas bolton louise webster and paul murdin in 1972 end-of-sentence',\n",
       " 'start-of-sentence some doubt however remained due to the uncertainties that result from the companion star being much heavier than the candidate black hole end-of-sentence',\n",
       " 'start-of-sentence currently better candidates for black holes are found in a class of x-ray binaries called soft x-ray transients end-of-sentence',\n",
       " 'start-of-sentence in this class of system the companion star is of relatively low mass allowing for more accurate estimates of the black hole mass end-of-sentence',\n",
       " 'start-of-sentence moreover these systems actively emit x-rays for only several months once every 10–50 years end-of-sentence',\n",
       " 'start-of-sentence during the period of low x-ray emission (called quiescence) the accretion disk is extremely faint allowing detailed observation of the companion star during this period end-of-sentence',\n",
       " 'start-of-sentence one of the best such candidates is v404 cygni end-of-sentence',\n",
       " 'start-of-sentence quasi-periodic oscillations [ edit ] main article: quasi-periodic oscillation the x-ray emissions from accretion disks sometimes flicker at certain frequencies end-of-sentence',\n",
       " 'start-of-sentence these signals are called quasi-periodic oscillations and are thought to be caused by material moving along the inner edge of the accretion disk (the innermost stable circular orbit) end-of-sentence',\n",
       " 'start-of-sentence as such their frequency is linked to the mass of the compact object end-of-sentence',\n",
       " 'start-of-sentence they can thus be used as an alternative way to determine the mass of candidate black holes end-of-sentence',\n",
       " 'start-of-sentence galactic nuclei [ edit ] see also: active galactic nucleus detection of unusually bright x-ray flare from sagittarius a* a black hole in the centre of the milky way galaxy on 5 january 2015 astronomers use the term active galaxy to describe galaxies with unusual characteristics such as unusual spectral line emission and very strong radio emission end-of-sentence',\n",
       " 'start-of-sentence theoretical and observational studies have shown that the activity in these active galactic nuclei (agn) may be explained by the presence of supermassive black holes which can be millions of times more massive than stellar ones end-of-sentence',\n",
       " 'start-of-sentence the models of these agn consist of a central black hole that may be millions or billions of times more massive than the sun ; a disk of interstellar gas and dust called an accretion disk; and two jets perpendicular to the accretion disk end-of-sentence',\n",
       " 'start-of-sentence although supermassive black holes are expected to be found in most agn only some galaxies nuclei have been more carefully studied in attempts to both identify and measure the actual masses of the central supermassive black hole candidates end-of-sentence',\n",
       " 'start-of-sentence some of the most notable galaxies with supermassive black hole candidates include the andromeda galaxy m32 m87 ngc 3115 ngc 3377 ngc 4258 ngc 4889 ngc 1277 oj 287 apm 08279+5255 and the sombrero galaxy end-of-sentence',\n",
       " 'start-of-sentence it is now widely accepted that the centre of nearly every galaxy not just active ones contains a supermassive black hole end-of-sentence',\n",
       " 'start-of-sentence the close observational correlation between the mass of this hole and the velocity dispersion of the host galaxy s bulge known as the m–sigma relation strongly suggests a connection between the formation of the black hole and that of the galaxy itself end-of-sentence',\n",
       " 'start-of-sentence microlensing [ edit ] another way the black hole nature of an object may be tested is through observation of effects caused by a strong gravitational field in their vicinity end-of-sentence',\n",
       " 'start-of-sentence one such effect is gravitational lensing: the deformation of spacetime around a massive object causes light rays to be deflected such as light passing through an optic lens end-of-sentence',\n",
       " 'start-of-sentence observations have been made of weak gravitational lensing in which light rays are deflected by only a few arcseconds end-of-sentence',\n",
       " 'start-of-sentence microlensing occurs when the sources are unresolved and the observer sees a small brightening end-of-sentence',\n",
       " 'start-of-sentence in january 2022 astronomers reported the first possible detection of a microlensing event from an isolated black hole end-of-sentence',\n",
       " 'start-of-sentence another possibility for observing gravitational lensing by a black hole would be to observe stars orbiting the black hole end-of-sentence',\n",
       " 'start-of-sentence there are several candidates for such an observation in orbit around sagittarius a* end-of-sentence',\n",
       " 'start-of-sentence alternatives [ edit ] see also: exotic star the evidence for stellar black holes strongly relies on the existence of an upper limit for the mass of a neutron star end-of-sentence',\n",
       " 'start-of-sentence the size of this limit heavily depends on the assumptions made about the properties of dense matter end-of-sentence',\n",
       " 'start-of-sentence new exotic phases of matter could push up this bound end-of-sentence',\n",
       " 'start-of-sentence a phase of free quarks at high density might allow the existence of dense quark stars and some supersymmetric models predict the existence of q stars end-of-sentence',\n",
       " 'start-of-sentence some extensions of the standard model posit the existence of preons as fundamental building blocks of quarks and leptons which could hypothetically form preon stars end-of-sentence',\n",
       " 'start-of-sentence these hypothetical models could potentially explain a number of observations of stellar black hole candidates end-of-sentence',\n",
       " 'start-of-sentence however it can be shown from arguments in general relativity that any such object will have a maximum mass end-of-sentence',\n",
       " 'start-of-sentence since the average density of a black hole inside its schwarzschild radius is inversely proportional to the square of its mass supermassive black holes are much less dense than stellar black holes (the average density of a 10 8 m ☉ black hole is comparable to that of water) end-of-sentence',\n",
       " 'start-of-sentence consequently the physics of matter forming a supermassive black hole is much better understood and the possible alternative explanations for supermassive black hole observations are much more mundane end-of-sentence',\n",
       " 'start-of-sentence for example a supermassive black hole could be modelled by a large cluster of very dark objects end-of-sentence',\n",
       " 'start-of-sentence however such alternatives are typically not stable enough to explain the supermassive black hole candidates end-of-sentence',\n",
       " 'start-of-sentence the evidence for the existence of stellar and supermassive black holes implies that in order for black holes to not form general relativity must fail as a theory of gravity perhaps due to the onset of quantum mechanical corrections end-of-sentence',\n",
       " 'start-of-sentence a much anticipated feature of a theory of quantum gravity is that it will not feature singularities or event horizons and thus black holes would not be real artifacts end-of-sentence',\n",
       " 'start-of-sentence for example in the fuzzball model based on string theory the individual states of a black hole solution do not generally have an event horizon or singularity but for a classical/semi-classical observer the statistical average of such states appears just as an ordinary black hole as deduced from general relativity end-of-sentence',\n",
       " 'start-of-sentence a few theoretical objects have been conjectured to match observations of astronomical black hole candidates identically or near-identically but which function via a different mechanism end-of-sentence',\n",
       " 'start-of-sentence these include the gravastar the black star and the dark-energy star end-of-sentence',\n",
       " 'start-of-sentence open questions [ edit ] entropy and thermodynamics [ edit ] further information: black hole thermodynamics and bekenstein bound= 1 / 4 c 3 k / għ a the formula for the bekenstein–hawking entropy () of a black hole which depends on the area of the black hole ( a ) end-of-sentence',\n",
       " 'start-of-sentence the constants are the speed of light ( c ) the boltzmann constant ( k ) newton s constant ( g ) and the reduced planck constant ( ħ ) end-of-sentence',\n",
       " 'start-of-sentence in planck units this reduces to= a / 4 end-of-sentence',\n",
       " 'start-of-sentence in 1971 hawking showed under general conditions [note 5] that the total area of the event horizons of any collection of classical black holes can never decrease even if they collide and merge end-of-sentence',\n",
       " 'start-of-sentence this result now known as the second law of black hole mechanics is remarkably similar to the second law of thermodynamics which states that the total entropy of an isolated system can never decrease end-of-sentence',\n",
       " 'start-of-sentence as with classical objects at absolute zero temperature it was assumed that black holes had zero entropy end-of-sentence',\n",
       " 'start-of-sentence if this were the case the second law of thermodynamics would be violated by entropy-laden matter entering a black hole resulting in a decrease in the total entropy of the universe end-of-sentence',\n",
       " 'start-of-sentence therefore bekenstein proposed that a black hole should have an entropy and that it should be proportional to its horizon area end-of-sentence',\n",
       " 'start-of-sentence the link with the laws of thermodynamics was further strengthened by hawking s discovery in 1974 that quantum field theory predicts that a black hole radiates blackbody radiation at a constant temperature end-of-sentence',\n",
       " 'start-of-sentence this seemingly causes a violation of the second law of black hole mechanics since the radiation will carry away energy from the black hole causing it to shrink end-of-sentence',\n",
       " 'start-of-sentence the radiation however also carries away entropy and it can be proven under general assumptions that the sum of the entropy of the matter surrounding a black hole and one quarter of the area of the horizon as measured in planck units is in fact always increasing end-of-sentence',\n",
       " 'start-of-sentence this allows the formulation of the first law of black hole mechanics as an analogue of the first law of thermodynamics with the mass acting as energy the surface gravity as temperature and the area as entropy end-of-sentence',\n",
       " 'start-of-sentence one puzzling feature is that the entropy of a black hole scales with its area rather than with its volume since entropy is normally an extensive quantity that scales linearly with the volume of the system end-of-sentence',\n",
       " 'start-of-sentence this odd property led gerard t hooft and leonard susskind to propose the holographic principle which suggests that anything that happens in a volume of spacetime can be described by data on the boundary of that volume end-of-sentence',\n",
       " 'start-of-sentence although general relativity can be used to perform a semi-classical calculation of black hole entropy this situation is theoretically unsatisfying end-of-sentence',\n",
       " 'start-of-sentence in statistical mechanics entropy is understood as counting the number of microscopic configurations of a system that have the same macroscopic qualities (such as mass charge pressure etc end-of-sentence',\n",
       " 'start-of-sentence) end-of-sentence',\n",
       " 'start-of-sentence without a satisfactory theory of quantum gravity one cannot perform such a computation for black holes end-of-sentence',\n",
       " 'start-of-sentence some progress has been made in various approaches to quantum gravity end-of-sentence',\n",
       " 'start-of-sentence in 1995 andrew strominger and cumrun vafa showed that counting the microstates of a specific supersymmetric black hole in string theory reproduced the bekenstein–hawking entropy end-of-sentence',\n",
       " 'start-of-sentence since then similar results have been reported for different black holes both in string theory and in other approaches to quantum gravity like loop quantum gravity end-of-sentence',\n",
       " 'start-of-sentence another promising approach is constituted by treating gravity as an effective field theory end-of-sentence',\n",
       " 'start-of-sentence one first computes the quantum gravitational corrections to the radius of the event horizon of the black hole then integrates over it to find the quantum gravitational corrections to the entropy as given by the wald formula end-of-sentence',\n",
       " 'start-of-sentence the method was applied for schwarzschild black holes by calmet and kuipers then successfully generalised for charged black holes by campos delgado end-of-sentence',\n",
       " 'start-of-sentence information loss paradox [ edit ] main article: black hole information paradox unsolved problem in physics : is physical information lost in black holes? (more unsolved problems in physics) because a black hole has only a few internal parameters most of the information about the matter that went into forming the black hole is lost end-of-sentence',\n",
       " 'start-of-sentence regardless of the type of matter which goes into a black hole it appears that only information concerning the total mass charge and angular momentum are conserved end-of-sentence',\n",
       " 'start-of-sentence as long as black holes were thought to persist forever this information loss is not that problematic as the information can be thought of as existing inside the black hole inaccessible from the outside but represented on the event horizon in accordance with the holographic principle end-of-sentence',\n",
       " 'start-of-sentence however black holes slowly evaporate by emitting hawking radiation end-of-sentence',\n",
       " 'start-of-sentence this radiation does not appear to carry any additional information about the matter that formed the black hole meaning that this information appears to be gone forever end-of-sentence',\n",
       " 'start-of-sentence the question whether information is truly lost in black holes (the black hole information paradox ) has divided the theoretical physics community end-of-sentence',\n",
       " 'start-of-sentence in quantum mechanics loss of information corresponds to the violation of a property called unitarity and it has been argued that loss of unitarity would also imply violation of conservation of energy though this has also been disputed end-of-sentence',\n",
       " 'start-of-sentence over recent years evidence has been building that indeed information and unitarity are preserved in a full quantum gravitational treatment of the problem end-of-sentence',\n",
       " 'start-of-sentence one attempt to resolve the black hole information paradox is known as black hole complementarity end-of-sentence',\n",
       " 'start-of-sentence in 2012 the firewall paradox was introduced with the goal of demonstrating that black hole complementarity fails to solve the information paradox end-of-sentence',\n",
       " 'start-of-sentence according to quantum field theory in curved spacetime a single emission of hawking radiation involves two mutually entangled particles end-of-sentence',\n",
       " 'start-of-sentence the outgoing particle escapes and is emitted as a quantum of hawking radiation; the infalling particle is swallowed by the black hole end-of-sentence',\n",
       " 'start-of-sentence assume a black hole formed a finite time in the past and will fully evaporate away in some finite time in the future end-of-sentence',\n",
       " 'start-of-sentence then it will emit only a finite amount of information encoded within its hawking radiation end-of-sentence',\n",
       " 'start-of-sentence according to research by physicists like don page and leonard susskind there will eventually be a time by which an outgoing particle must be entangled with all the hawking radiation the black hole has previously emitted end-of-sentence',\n",
       " 'start-of-sentence this seemingly creates a paradox: a principle called monogamy of entanglement requires that like any quantum system the outgoing particle cannot be fully entangled with two other systems at the same time; yet here the outgoing particle appears to be entangled both with the infalling particle and independently with past hawking radiation end-of-sentence',\n",
       " 'start-of-sentence in order to resolve this contradiction physicists may eventually be forced to give up one of three time-tested principles: einstein s equivalence principle unitarity or local quantum field theory end-of-sentence',\n",
       " 'start-of-sentence one possible solution which violates the equivalence principle is that a firewall destroys incoming particles at the event horizon end-of-sentence',\n",
       " 'start-of-sentence in general which—if any—of these assumptions should be abandoned remains a topic of debate end-of-sentence',\n",
       " 'start-of-sentence see also [ edit ] binary black hole black brane or black string black hole initiative black hole starship black holes in fiction blanet btz black hole charged black hole direct collapse black hole hypothetical black hole (disambiguation) kugelblitz (astrophysics) list of black holes list of nearest black holes outline of black holes sonic black hole virtual black hole susskind-hawking battle timeline of black hole physics white hole planck star dark star (dark matter) schwarzschild radius notes [ edit ] ^ the value of cj/gm 2 can exceed 1 for objects other than black holes end-of-sentence',\n",
       " 'start-of-sentence the largest value known for a neutron star is ≤ 0 end-of-sentence',\n",
       " 'start-of-sentence4 and commonly used equations of state would limit that value to < 0 end-of-sentence',\n",
       " 'start-of-sentence7 end-of-sentence',\n",
       " 'start-of-sentence ^ the (outer) event horizon radius scales as: m + m 2 − ( j / m ) 2 − q 2 end-of-sentence',\n",
       " 'start-of-sentence {displaystyle m+{sqrt {m^{2}-{(j/m)}^{2}-q^{2}}} end-of-sentence',\n",
       " 'start-of-sentence} ^ the set of possible paths or more accurately the future light cone containing all possible world lines (in this diagram the light cone is represented by the v-shaped region bounded by arrows representing light ray world lines) is tilted in this way in eddington–finkelstein coordinates (the diagram is a cartoon version of an eddington–finkelstein coordinate diagram) but in other coordinates the light cones are not tilted in this way for example in schwarzschild coordinates they narrow without tilting as one approaches the event horizon and in kruskal–szekeres coordinates the light cones do not change shape or orientation at all end-of-sentence',\n",
       " 'start-of-sentence ^ this is true only for four-dimensional spacetimes end-of-sentence',\n",
       " 'start-of-sentence in higher dimensions more complicated horizon topologies like a black ring are possible end-of-sentence',\n",
       " 'start-of-sentence ^ in particular he assumed that all matter satisfies the weak energy condition end-of-sentence',\n",
       " 'start-of-sentence']"
      ]
     },
     "execution_count": 25,
     "metadata": {},
     "output_type": "execute_result"
    }
   ],
   "source": [
    "splited_data"
   ]
  },
  {
   "cell_type": "code",
   "execution_count": 31,
   "id": "78c2db28-99c0-4569-9e19-102d90daf692",
   "metadata": {},
   "outputs": [
    {
     "data": {
      "text/plain": [
       "[4, 37, 10, 66, 6, 0, 186, 16, 68, 0]"
      ]
     },
     "execution_count": 31,
     "metadata": {},
     "output_type": "execute_result"
    }
   ],
   "source": [
    "def yield_tokens(data_iter):\n",
    "    for _, text in data_iter:\n",
    "        yield tokenizer(text)\n",
    "\n",
    "vocab = build_vocab_from_iterator(yield_tokens(train_iter), specials=[\"<unk>\"])\n",
    "vocab.set_default_index(vocab[\"<unk>\"])\n",
    "vocab(tokens[0:10])"
   ]
  },
  {
   "cell_type": "code",
   "execution_count": 32,
   "id": "840ca675-54f9-48f1-b915-54e22bf0abc3",
   "metadata": {},
   "outputs": [],
   "source": [
    "token_map = vocab.get_stoi()"
   ]
  },
  {
   "cell_type": "code",
   "execution_count": null,
   "id": "55679353-6d91-4fe6-a89b-b7c6e36413b0",
   "metadata": {},
   "outputs": [],
   "source": []
  },
  {
   "cell_type": "code",
   "execution_count": null,
   "id": "2d1e4407-b80a-42a5-bd7b-589576be6d2a",
   "metadata": {},
   "outputs": [],
   "source": []
  },
  {
   "cell_type": "code",
   "execution_count": 26,
   "id": "49171cbb-4dd0-4b78-9a51-e4f5cd9e2ae4",
   "metadata": {},
   "outputs": [],
   "source": [
    "training_data = []\n",
    "\n",
    "for sentence in splited_data:\n",
    "    data=sentence.split()\n",
    "    for i in range(1,len(data)-1):\n",
    "        X=data[0:i]\n",
    "        y = data[i+1]\n",
    "        #print(i, X)\n",
    "        #print(y)\n",
    "        #print()\n",
    "        training_data.append((X,y))"
   ]
  },
  {
   "cell_type": "code",
   "execution_count": 27,
   "id": "0f718ebe-62c5-4dae-a6ac-9e51be13004b",
   "metadata": {},
   "outputs": [
    {
     "data": {
      "text/plain": [
       "11094"
      ]
     },
     "execution_count": 27,
     "metadata": {},
     "output_type": "execute_result"
    }
   ],
   "source": [
    "len(training_data)"
   ]
  },
  {
   "cell_type": "code",
   "execution_count": 33,
   "id": "00b9f1ca-3f95-4258-aeaa-c4f05a0fd6ca",
   "metadata": {},
   "outputs": [
    {
     "data": {
      "text/plain": [
       "[(['start-of-sentence', 'a'], 'hole'),\n",
       " (['start-of-sentence', 'a', 'black'], 'has'),\n",
       " (['start-of-sentence', 'a', 'black', 'hole'], 'a'),\n",
       " (['start-of-sentence', 'a', 'black', 'hole', 'has'], 'great'),\n",
       " (['start-of-sentence', 'a', 'black', 'hole', 'has', 'a'], 'effect')]"
      ]
     },
     "execution_count": 33,
     "metadata": {},
     "output_type": "execute_result"
    }
   ],
   "source": [
    "training_data[110:115]"
   ]
  },
  {
   "cell_type": "code",
   "execution_count": 37,
   "id": "c5c122cd-298a-453e-8894-b1e2f7991b85",
   "metadata": {},
   "outputs": [],
   "source": [
    "word_to_token = token_map\n",
    "\n",
    "def word_to_token_wrapper(word: str) -> int:\n",
    "    if word not in word_to_token:\n",
    "        return 0\n",
    "    return word_to_token[word]\n",
    "\n",
    "def sentence_to_token(sentence)->int:\n",
    "\n",
    "    \n",
    "    return [word_to_token_wrapper(word) for word in sentence]"
   ]
  },
  {
   "cell_type": "code",
   "execution_count": 38,
   "id": "244187ee-b1c8-4b44-83d7-dd8c518662c3",
   "metadata": {},
   "outputs": [],
   "source": [
    "training_data_tokenized = [ (sentence_to_token(a),word_to_token_wrapper(b) ) for a,b in training_data]"
   ]
  },
  {
   "cell_type": "code",
   "execution_count": 39,
   "id": "b2c6c21c-4854-4e29-b413-f390e3653532",
   "metadata": {},
   "outputs": [
    {
     "data": {
      "text/plain": [
       "[([4, 6], 8),\n",
       " ([4, 6, 5], 66),\n",
       " ([4, 6, 5, 8], 6),\n",
       " ([4, 6, 5, 8, 66], 412),\n",
       " ([4, 6, 5, 8, 66, 6], 153)]"
      ]
     },
     "execution_count": 39,
     "metadata": {},
     "output_type": "execute_result"
    }
   ],
   "source": [
    "training_data_tokenized[110:115]"
   ]
  },
  {
   "cell_type": "markdown",
   "id": "5328a8f9-660e-4484-9ecd-789cc4a2fad4",
   "metadata": {},
   "source": [
    "training_data_tokenized[110:115]\n",
    "\"\"\"\n",
    "[([4, 6], 8),\n",
    " ([4, 6, 5], 66),\n",
    " ([4, 6, 5, 8], 6),\n",
    " ([4, 6, 5, 8, 66], 412),\n",
    " ([4, 6, 5, 8, 66, 6], 153)]\n",
    " \"\"\""
   ]
  },
  {
   "cell_type": "markdown",
   "id": "d820d50d-7e6b-4ab1-8385-795a0694b913",
   "metadata": {},
   "source": [
    "## training "
   ]
  },
  {
   "cell_type": "code",
   "execution_count": 40,
   "id": "74579798-7a23-456b-8680-6921454d61e0",
   "metadata": {},
   "outputs": [],
   "source": [
    "from torch.utils.data import Dataset, DataLoader\n",
    "import torch.nn as nn\n",
    "import torch.optim as optim\n",
    "\n",
    "class SentenceCompletionDataset(Dataset):\n",
    "    def __init__(self, data, word_to_index):\n",
    "        self.data = data\n",
    "        self.word_to_index = word_to_index\n",
    "    \n",
    "    def __len__(self):\n",
    "        return len(self.data)\n",
    "    \n",
    "    def __getitem__(self, idx):\n",
    "        input_sequence, target_word = self.data[idx]\n",
    "        input_indices = [self.word_to_index[word] for word in input_sequence]\n",
    "        target_index = self.word_to_index[target_word]\n",
    "        return torch.tensor(input_indices, dtype=torch.long), torch.tensor(target_index, dtype=torch.long)\n",
    "\n",
    "# Example Model (simplified)\n",
    "class SimpleSeq2Seq(nn.Module):\n",
    "    def __init__(self, vocab_size, embedding_dim, hidden_dim):\n",
    "        super(SimpleSeq2Seq, self).__init__()\n",
    "        self.embedding = nn.Embedding(vocab_size, embedding_dim)\n",
    "        self.rnn = nn.LSTM(embedding_dim, hidden_dim, batch_first=True)\n",
    "        self.out = nn.Linear(hidden_dim, vocab_size)\n",
    "    \n",
    "    def forward(self, input_seq):\n",
    "        embedded = self.embedding(input_seq)\n",
    "        output, (hidden, cell) = self.rnn(embedded)\n",
    "        decoded = self.out(output[:, -1, :])  # Use the last output for prediction\n",
    "        return decoded\n"
   ]
  },
  {
   "cell_type": "code",
   "execution_count": 41,
   "id": "6e4bfb11-3185-4466-9c2a-3d1c7171b84f",
   "metadata": {},
   "outputs": [
    {
     "ename": "NameError",
     "evalue": "name 'masked_sentences_and_targets_tokens' is not defined",
     "output_type": "error",
     "traceback": [
      "\u001b[0;31m---------------------------------------------------------------------------\u001b[0m",
      "\u001b[0;31mNameError\u001b[0m                                 Traceback (most recent call last)",
      "Cell \u001b[0;32mIn[41], line 4\u001b[0m\n\u001b[1;32m      1\u001b[0m \u001b[38;5;28;01mfrom\u001b[39;00m \u001b[38;5;21;01msklearn\u001b[39;00m\u001b[38;5;21;01m.\u001b[39;00m\u001b[38;5;21;01mmodel_selection\u001b[39;00m \u001b[38;5;28;01mimport\u001b[39;00m train_test_split\n\u001b[1;32m      3\u001b[0m \u001b[38;5;66;03m# Assuming train_data is a list of sentences\u001b[39;00m\n\u001b[0;32m----> 4\u001b[0m train_sentences, val_sentences \u001b[38;5;241m=\u001b[39m train_test_split(masked_sentences_and_targets_tokens, test_size\u001b[38;5;241m=\u001b[39m\u001b[38;5;241m0.2\u001b[39m, random_state\u001b[38;5;241m=\u001b[39m\u001b[38;5;241m42\u001b[39m)\n",
      "\u001b[0;31mNameError\u001b[0m: name 'masked_sentences_and_targets_tokens' is not defined"
     ]
    }
   ],
   "source": [
    "from sklearn.model_selection import train_test_split\n",
    "\n",
    "# Assuming train_data is a list of sentences\n",
    "train_sentences, val_sentences = train_test_split(masked_sentences_and_targets_tokens, test_size=0.2, random_state=42)\n",
    "\n",
    "# Now, apply the masking and preparation logic to both train_sentences and val_sentences"
   ]
  },
  {
   "cell_type": "code",
   "execution_count": 42,
   "id": "8ef9f8b5-2e16-4feb-9747-fa2f40f18a7c",
   "metadata": {},
   "outputs": [],
   "source": [
    "from torch.utils.data import Dataset, DataLoader\n",
    "import torch\n",
    "\n",
    "class TokenizedTextDataset(Dataset):\n",
    "    def __init__(self, tokenized_data):\n",
    "        self.tokenized_data = tokenized_data\n",
    "        \n",
    "    def __len__(self):\n",
    "        return len(self.tokenized_data)\n",
    "    \n",
    "    def __getitem__(self, idx):\n",
    "        input_seq, target_token = self.tokenized_data[idx]\n",
    "        return torch.tensor(input_seq, dtype=torch.long), torch.tensor(target_token, dtype=torch.long)\n",
    "\n",
    "import torch.nn as nn\n",
    "\n",
    "class SimpleRNNModel(nn.Module):\n",
    "    def __init__(self, vocab_size, embedding_dim, hidden_dim):\n",
    "        super(SimpleRNNModel, self).__init__()\n",
    "        self.embedding = nn.Embedding(vocab_size, embedding_dim)\n",
    "        self.rnn = nn.LSTM(embedding_dim, hidden_dim, batch_first=True)\n",
    "        self.fc = nn.Linear(hidden_dim, vocab_size)\n",
    "    \n",
    "    def forward(self, x):\n",
    "        embedded = self.embedding(x)\n",
    "        output, (hidden, cell) = self.rnn(embedded)\n",
    "        # Taking the output of the last time step\n",
    "        output = self.fc(output[:, -1, :])\n",
    "        return output\n"
   ]
  },
  {
   "cell_type": "code",
   "execution_count": 45,
   "id": "3675f709-5751-4b03-9046-4ed8aedca1ea",
   "metadata": {},
   "outputs": [],
   "source": [
    "from torch.nn.utils.rnn import pad_sequence\n",
    "\n",
    "def collate_fn(batch):\n",
    "    tokens, targets = zip(*batch)\n",
    "    # Pad the sequences to the maximum length in the batch\n",
    "    tokens_padded = pad_sequence([torch.tensor(seq) for seq in tokens], batch_first=True, padding_value=0)\n",
    "    targets = torch.tensor(targets, dtype=torch.long)\n",
    "    return tokens_padded, targets\n"
   ]
  },
  {
   "cell_type": "code",
   "execution_count": 47,
   "id": "00a5f36f-3a23-456c-91e0-be7e2e70d5f2",
   "metadata": {},
   "outputs": [
    {
     "data": {
      "text/plain": [
       "11094"
      ]
     },
     "execution_count": 47,
     "metadata": {},
     "output_type": "execute_result"
    }
   ],
   "source": [
    "len(training_data_tokenized)"
   ]
  },
  {
   "cell_type": "code",
   "execution_count": 92,
   "id": "32e48738-f9ae-44fd-b506-5adc25eab787",
   "metadata": {},
   "outputs": [
    {
     "name": "stderr",
     "output_type": "stream",
     "text": [
      "/var/folders/l4/bv3z08h91lggkmhcp2n7yzh80000gn/T/ipykernel_65851/763346120.py:6: UserWarning: To copy construct from a tensor, it is recommended to use sourceTensor.clone().detach() or sourceTensor.clone().detach().requires_grad_(True), rather than torch.tensor(sourceTensor).\n",
      "  tokens_padded = pad_sequence([torch.tensor(seq) for seq in tokens], batch_first=True, padding_value=0)\n"
     ]
    },
    {
     "name": "stdout",
     "output_type": "stream",
     "text": [
      "Epoch 1, Loss: 7.452559471130371\n",
      "Epoch 2, Loss: 6.41782283782959\n"
     ]
    }
   ],
   "source": [
    "from torch.optim import Adam\n",
    "from torch.nn import CrossEntropyLoss\n",
    "\n",
    "# Hyperparameters\n",
    "embedding_dim = 64\n",
    "hidden_dim = 120\n",
    "vocab_size = len(word_to_token)\n",
    "\n",
    "model = SimpleRNNModel(vocab_size, embedding_dim, hidden_dim)\n",
    "optimizer = Adam(model.parameters(), lr=0.01)\n",
    "criterion = CrossEntropyLoss()\n",
    "\n",
    "# DataLoader\n",
    "dataset = TokenizedTextDataset(training_data_tokenized)\n",
    "dataloader = DataLoader(dataset, batch_size=5, shuffle=False, collate_fn=collate_fn)\n",
    "\n",
    "# Training loop\n",
    "num_epochs = 2\n",
    "for epoch in range(num_epochs):\n",
    "    for inputs, targets in dataloader:\n",
    "        optimizer.zero_grad()\n",
    "        outputs = model(inputs)\n",
    "        loss = criterion(outputs, targets)\n",
    "        loss.backward()\n",
    "        optimizer.step()\n",
    "    print(f\"Epoch {epoch+1}, Loss: {loss.item()}\")\n"
   ]
  },
  {
   "cell_type": "code",
   "execution_count": null,
   "id": "163c2202-202d-441e-b065-39abd8cbe712",
   "metadata": {},
   "outputs": [],
   "source": []
  },
  {
   "cell_type": "code",
   "execution_count": null,
   "id": "e10f12d1-11c7-463b-94af-9bd981e2cbcb",
   "metadata": {},
   "outputs": [],
   "source": []
  },
  {
   "cell_type": "code",
   "execution_count": 93,
   "id": "c5049dbd-effe-4e18-b928-73239977c1d0",
   "metadata": {},
   "outputs": [],
   "source": [
    "def predict_next_token(model, input_seq):\n",
    "    model.eval()\n",
    "    with torch.no_grad():\n",
    "        input_tensor = torch.tensor(input_seq, dtype=torch.long).unsqueeze(0)  # Add batch dimension\n",
    "        output = model(input_tensor)\n",
    "        predicted_token_id = output.argmax(dim=1).item()\n",
    "    return predicted_token_id\n"
   ]
  },
  {
   "cell_type": "code",
   "execution_count": 94,
   "id": "b078823f-ca20-4e57-ab74-574cb1202ffd",
   "metadata": {},
   "outputs": [],
   "source": [
    "sentence=\"black hole are the biggest\"\n",
    "sequence = sentence_to_token(sentence)"
   ]
  },
  {
   "cell_type": "code",
   "execution_count": 95,
   "id": "1b20bd7c-5ceb-40de-84be-03a6719796e8",
   "metadata": {},
   "outputs": [],
   "source": [
    "predicted_token_id = predict_next_token(model, sequence)"
   ]
  },
  {
   "cell_type": "code",
   "execution_count": 96,
   "id": "38834adb-8708-4150-98e7-93d096bdffda",
   "metadata": {},
   "outputs": [
    {
     "data": {
      "text/plain": [
       "3"
      ]
     },
     "execution_count": 96,
     "metadata": {},
     "output_type": "execute_result"
    }
   ],
   "source": [
    "predicted_token_id"
   ]
  },
  {
   "cell_type": "code",
   "execution_count": 97,
   "id": "b7ba1afc-5e1d-42b0-8300-5413b1aefe9a",
   "metadata": {},
   "outputs": [
    {
     "data": {
      "text/plain": [
       "'end-of-sentence'"
      ]
     },
     "execution_count": 97,
     "metadata": {},
     "output_type": "execute_result"
    }
   ],
   "source": [
    "token_to_word = {token: word for word, token in token_map.items()}\n",
    "predicted_word = token_to_word[predicted_token_id]\n",
    "predicted_word"
   ]
  },
  {
   "cell_type": "code",
   "execution_count": 98,
   "id": "21290496-87f8-4e6f-8fbf-773d62782a5b",
   "metadata": {},
   "outputs": [],
   "source": [
    "def predict_next_word(start):\n",
    "    sequence = sentence_to_token(sentence)\n",
    "    predicted_token_id = predict_next_token(model, sequence)\n",
    "    token_to_word = {token: word for word, token in token_map.items()}\n",
    "    predicted_word = token_to_word[predicted_token_id]\n",
    "    return predicted_word"
   ]
  },
  {
   "cell_type": "code",
   "execution_count": null,
   "id": "7860822c-675b-49a9-b36c-e21700e0a6ce",
   "metadata": {},
   "outputs": [],
   "source": []
  },
  {
   "cell_type": "code",
   "execution_count": 99,
   "id": "7ed28370-7d44-4d08-a99b-ff0094a8c70b",
   "metadata": {},
   "outputs": [
    {
     "data": {
      "text/plain": [
       "'start-of-sentence end-of-sentence end-of-sentence end-of-sentence end-of-sentence end-of-sentence end-of-sentence end-of-sentence end-of-sentence end-of-sentence end-of-sentence end-of-sentence end-of-sentence end-of-sentence end-of-sentence end-of-sentence end-of-sentence end-of-sentence end-of-sentence end-of-sentence'"
      ]
     },
     "execution_count": 99,
     "metadata": {},
     "output_type": "execute_result"
    }
   ],
   "source": [
    "next_word = \"start-of-sentence\"\n",
    "words = []\n",
    "for _ in range(20):\n",
    "    words.append(next_word)\n",
    "    next_word = predict_next_word(next_word)\n",
    "\n",
    "\" \".join(words)"
   ]
  },
  {
   "cell_type": "code",
   "execution_count": null,
   "id": "c7f537b6-989a-47fb-a804-7468b8c5384f",
   "metadata": {},
   "outputs": [],
   "source": []
  }
 ],
 "metadata": {
  "kernelspec": {
   "display_name": "Python 3 (ipykernel)",
   "language": "python",
   "name": "python3"
  },
  "language_info": {
   "codemirror_mode": {
    "name": "ipython",
    "version": 3
   },
   "file_extension": ".py",
   "mimetype": "text/x-python",
   "name": "python",
   "nbconvert_exporter": "python",
   "pygments_lexer": "ipython3",
   "version": "3.11.7"
  }
 },
 "nbformat": 4,
 "nbformat_minor": 5
}
