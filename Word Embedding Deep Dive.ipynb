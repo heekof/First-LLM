{
 "cells": [
  {
   "cell_type": "code",
   "execution_count": 2,
   "metadata": {},
   "outputs": [
    {
     "name": "stderr",
     "output_type": "stream",
     "text": [
      "Read 0M words\n",
      "Number of words:  3\n",
      "Number of labels: 0\n"
     ]
    },
    {
     "name": "stderr",
     "output_type": "stream",
     "text": [
      "Progress: 100.0% words/sec/thread:     570 lr:  0.000000 avg.loss:       nan ETA:   0h 0m 0s\n"
     ]
    }
   ],
   "source": [
    "import fasttext\n",
    "\n",
    "# Sample corpus: sentences.txt\n",
    "corpus = \"\"\"The universe is vast and full of mysteries.\n",
    "Quantum mechanics and general relativity are fundamental theories in physics.\n",
    "Dark matter and dark energy constitute a significant part of the universe.\n",
    "The Big Bang theory explains the origin of the universe.\n",
    "Black holes are regions of spacetime exhibiting gravitational acceleration.\n",
    "Neutron stars are the remnants of supernova explosions.\n",
    "Astrophysics involves the study of the physics of celestial bodies.\"\"\"\n",
    "\n",
    "# Save corpus to a file (required by FastText)\n",
    "with open(\"dataset/sentences.txt\", \"w\") as text_file:\n",
    "    text_file.write(corpus)\n",
    "\n",
    "# Train a FastText model\n",
    "model = fasttext.train_unsupervised('dataset/sentences.txt', model='skipgram')\n",
    "\n",
    "# Save the model\n",
    "model.save_model(\"fasttext_model.bin\")\n"
   ]
  },
  {
   "cell_type": "code",
   "execution_count": null,
   "metadata": {},
   "outputs": [],
   "source": [
    "import fasttext.util\n",
    "# Load a pre-trained model (this might require downloading the model first)\n",
    "fasttext.util.download_model('en', if_exists='ignore')  # For English\n",
    "model = fasttext.load_model('cc.en.300.bin')\n"
   ]
  }
 ],
 "metadata": {
  "kernelspec": {
   "display_name": "env_pytorch",
   "language": "python",
   "name": "python3"
  },
  "language_info": {
   "codemirror_mode": {
    "name": "ipython",
    "version": 3
   },
   "file_extension": ".py",
   "mimetype": "text/x-python",
   "name": "python",
   "nbconvert_exporter": "python",
   "pygments_lexer": "ipython3",
   "version": "3.11.7"
  }
 },
 "nbformat": 4,
 "nbformat_minor": 2
}
