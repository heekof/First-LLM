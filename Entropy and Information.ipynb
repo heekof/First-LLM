{
 "cells": [
  {
   "cell_type": "markdown",
   "metadata": {},
   "source": [
    "Entropy is the qualtification of level of disorder. \n",
    "\n",
    "a High Entropy means high disorder.\n",
    "\n",
    "In information theory, the less entropy you have the more information you have.\n",
    "\n",
    "At initialization, a ANN is at high state of entropy. When training, the ANN weights are at low entropy whichmeans they managed to learn information from data.\n",
    "\n",
    "the formula and link between entropy and information is :\n",
    "\n",
    "Information = - log2(P) // with P the probability of an event occuring\n",
    "// if P=1 the evnent is certain and we will  no gain any Information from it so the Information = 0\n",
    "// P = 0 is impossible and the Information resulting is infinite, which mean it will requestion our understanding and world modelm"
   ]
  }
 ],
 "metadata": {
  "language_info": {
   "name": "python"
  }
 },
 "nbformat": 4,
 "nbformat_minor": 2
}
