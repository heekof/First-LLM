{
 "cells": [
  {
   "cell_type": "code",
   "execution_count": 9,
   "metadata": {},
   "outputs": [],
   "source": [
    "text = \"Hello, my name is Jaafar and I love NLP, because it allows us to capture syntactic and semantic from natural language.\"\n",
    "\n",
    "\n",
    "import tiktoken\n",
    "enc = tiktoken.get_encoding(\"cl100k_base\")\n",
    "assert enc.decode(enc.encode(\"hello world\")) == \"hello world\"\n",
    "# To get the tokeniser corresponding to a specific model in the OpenAI API:\n",
    "enc = tiktoken.encoding_for_model(\"gpt-4\")\n",
    "\n",
    "# here are all the unique characters that occur in this text\n",
    "chars = sorted(list(set(text.split(\" \"))))\n",
    "vocab_size = len(chars)\n",
    "# create a mapping from characters to integers\n",
    "stoi = { ch:i for i,ch in enumerate(chars) }\n",
    "itos = { i:ch for i,ch in enumerate(chars) }\n",
    "\n",
    "# here are all the unique characters that occur in this text\n",
    "unique_words = sorted(list(set(text)))\n",
    "vocab_size = len(unique_words)\n",
    "\n",
    "jaafar_tokens = {i:token for i, token in enumerate(text)}\n",
    "\n",
    "encode = lambda s: [jaafar_tokens_reversed[c] for c in enc.encode(s)] # encoder: take a string, output a list of integers\n",
    "decode = lambda l: ''.join([enc.decode([jaafar_tokens[i]]) for i in l]) # decoder: take a list of integers, output a string\n",
    "\n",
    "\n",
    "example = \"Object that\"\n",
    "assert decode(encode(example)) == example"
   ]
  },
  {
   "cell_type": "code",
   "execution_count": 10,
   "metadata": {},
   "outputs": [
    {
     "data": {
      "text/plain": [
       "'Hello, my name is Jaafar and I love NLP, because it allows us to capture syntactic and semantic from natural language.'"
      ]
     },
     "execution_count": 10,
     "metadata": {},
     "output_type": "execute_result"
    }
   ],
   "source": [
    "text"
   ]
  },
  {
   "cell_type": "code",
   "execution_count": 11,
   "metadata": {},
   "outputs": [
    {
     "data": {
      "text/plain": [
       "{'Hello,': 0,\n",
       " 'I': 1,\n",
       " 'Jaafar': 2,\n",
       " 'NLP,': 3,\n",
       " 'allows': 4,\n",
       " 'and': 5,\n",
       " 'because': 6,\n",
       " 'capture': 7,\n",
       " 'from': 8,\n",
       " 'is': 9,\n",
       " 'it': 10,\n",
       " 'language.': 11,\n",
       " 'love': 12,\n",
       " 'my': 13,\n",
       " 'name': 14,\n",
       " 'natural': 15,\n",
       " 'semantic': 16,\n",
       " 'syntactic': 17,\n",
       " 'to': 18,\n",
       " 'us': 19}"
      ]
     },
     "execution_count": 11,
     "metadata": {},
     "output_type": "execute_result"
    }
   ],
   "source": [
    "stoi"
   ]
  },
  {
   "cell_type": "code",
   "execution_count": 12,
   "metadata": {},
   "outputs": [
    {
     "data": {
      "text/plain": [
       "{0: 'Hello,',\n",
       " 1: 'I',\n",
       " 2: 'Jaafar',\n",
       " 3: 'NLP,',\n",
       " 4: 'allows',\n",
       " 5: 'and',\n",
       " 6: 'because',\n",
       " 7: 'capture',\n",
       " 8: 'from',\n",
       " 9: 'is',\n",
       " 10: 'it',\n",
       " 11: 'language.',\n",
       " 12: 'love',\n",
       " 13: 'my',\n",
       " 14: 'name',\n",
       " 15: 'natural',\n",
       " 16: 'semantic',\n",
       " 17: 'syntactic',\n",
       " 18: 'to',\n",
       " 19: 'us'}"
      ]
     },
     "execution_count": 12,
     "metadata": {},
     "output_type": "execute_result"
    }
   ],
   "source": [
    "itos"
   ]
  },
  {
   "cell_type": "code",
   "execution_count": null,
   "metadata": {},
   "outputs": [],
   "source": []
  }
 ],
 "metadata": {
  "kernelspec": {
   "display_name": "env_pytorch",
   "language": "python",
   "name": "python3"
  },
  "language_info": {
   "codemirror_mode": {
    "name": "ipython",
    "version": 3
   },
   "file_extension": ".py",
   "mimetype": "text/x-python",
   "name": "python",
   "nbconvert_exporter": "python",
   "pygments_lexer": "ipython3",
   "version": "3.11.7"
  }
 },
 "nbformat": 4,
 "nbformat_minor": 2
}
